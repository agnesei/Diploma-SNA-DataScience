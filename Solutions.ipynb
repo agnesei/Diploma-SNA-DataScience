{
  "nbformat": 4,
  "nbformat_minor": 0,
  "metadata": {
    "colab": {
      "name": "Copia di Solutions.ipynb",
      "provenance": [],
      "collapsed_sections": [
        "6TTu-hL8vFMa",
        "ks_Qp1axvFPi",
        "DXj9lLN4vFSf",
        "4kv_EVZlvFVf",
        "oCg-HI9qvFer"
      ],
      "include_colab_link": true
    },
    "kernelspec": {
      "name": "python3",
      "display_name": "Python 3"
    },
    "language_info": {
      "name": "python"
    }
  },
  "cells": [
    {
      "cell_type": "markdown",
      "metadata": {
        "id": "view-in-github",
        "colab_type": "text"
      },
      "source": [
        "<a href=\"https://colab.research.google.com/github/agnesei/Diploma-SNA-DataScience/blob/main/Solutions.ipynb\" target=\"_parent\"><img src=\"https://colab.research.google.com/assets/colab-badge.svg\" alt=\"Open In Colab\"/></a>"
      ]
    },
    {
      "cell_type": "markdown",
      "metadata": {
        "id": "pMd3-XjHY0u7"
      },
      "source": [
        "#==================================\n",
        "#Numbers and Variables\n",
        "#==================================\n",
        "\n"
      ]
    },
    {
      "cell_type": "markdown",
      "metadata": {
        "id": "XAY_u5KGaYa8"
      },
      "source": [
        "## Exercise 1\n",
        "\n",
        "* Assign the value **13.9** to the variable **var_a**.\n",
        "* Print **var_a**"
      ]
    },
    {
      "cell_type": "code",
      "metadata": {
        "colab": {
          "base_uri": "https://localhost:8080/"
        },
        "id": "D4r8vUDQrEuD",
        "outputId": "ad9e3907-6e8b-4555-8aed-ee5d7103fdb6"
      },
      "source": [
        "var_a = 13.9\n",
        "print(var_a)\n",
        "var_a"
      ],
      "execution_count": null,
      "outputs": [
        {
          "output_type": "stream",
          "name": "stdout",
          "text": [
            "13.9\n"
          ]
        },
        {
          "output_type": "execute_result",
          "data": {
            "text/plain": [
              "13.9"
            ]
          },
          "metadata": {},
          "execution_count": 1
        }
      ]
    },
    {
      "cell_type": "markdown",
      "metadata": {
        "id": "VS-yQL0NcI0c"
      },
      "source": [
        "##Exercise 2\n",
        "* Assign the value **2.8** to the variable **var_b**.\n",
        "* Print **var_b**\n"
      ]
    },
    {
      "cell_type": "code",
      "metadata": {
        "colab": {
          "base_uri": "https://localhost:8080/"
        },
        "id": "y3MsH482rS7Z",
        "outputId": "28050f62-5eb7-4e23-e299-0819fcf2c278"
      },
      "source": [
        "var_b = 2.8\n",
        "print(var_b)\n",
        "var_b"
      ],
      "execution_count": null,
      "outputs": [
        {
          "output_type": "stream",
          "name": "stdout",
          "text": [
            "2.8\n"
          ]
        },
        {
          "output_type": "execute_result",
          "data": {
            "text/plain": [
              "2.8"
            ]
          },
          "metadata": {},
          "execution_count": 2
        }
      ]
    },
    {
      "cell_type": "markdown",
      "metadata": {
        "id": "ssgOqOgdlyDg"
      },
      "source": [
        "## Exercise 3\n",
        "* Round **var_a** using the **round()** function and reassign the rounded value to **var_a**.\n",
        "* Print **var_a**\n"
      ]
    },
    {
      "cell_type": "code",
      "metadata": {
        "colab": {
          "base_uri": "https://localhost:8080/"
        },
        "id": "4bzbFyMcrWTY",
        "outputId": "f917337e-cfbd-4533-c229-00875dfc9b74"
      },
      "source": [
        "var_a = round(var_a)\n",
        "print(var_a)\n",
        "var_a"
      ],
      "execution_count": null,
      "outputs": [
        {
          "output_type": "stream",
          "name": "stdout",
          "text": [
            "14\n"
          ]
        },
        {
          "output_type": "execute_result",
          "data": {
            "text/plain": [
              "14"
            ]
          },
          "metadata": {},
          "execution_count": 4
        }
      ]
    },
    {
      "cell_type": "markdown",
      "metadata": {
        "id": "7hP_Ro0el7c7"
      },
      "source": [
        "##Exercise 4\n",
        "* Convert **var_b** from float to integer using the **int()** function and reassign the rounded value to **var_b**.\n",
        "* Print **var_b**\n",
        "\n"
      ]
    },
    {
      "cell_type": "code",
      "metadata": {
        "colab": {
          "base_uri": "https://localhost:8080/"
        },
        "id": "YO1WWtmnraFH",
        "outputId": "f444b99d-89dc-44b4-b452-b4f7bcddfef0"
      },
      "source": [
        "var_b = int(var_b)\n",
        "print(var_b)"
      ],
      "execution_count": null,
      "outputs": [
        {
          "output_type": "stream",
          "name": "stdout",
          "text": [
            "2\n"
          ]
        }
      ]
    },
    {
      "cell_type": "markdown",
      "metadata": {
        "id": "c0zI05R_l7zo"
      },
      "source": [
        "##Exercise 5\n",
        "* Print the sum of **var_a** and **var_b**.\n",
        "\n"
      ]
    },
    {
      "cell_type": "code",
      "metadata": {
        "colab": {
          "base_uri": "https://localhost:8080/"
        },
        "id": "Y0FekS4Lre_l",
        "outputId": "7ddbfda3-58b7-42ab-c4b1-b1f6a6f5683b"
      },
      "source": [
        "print(var_a + var_b)\n",
        "var_a + var_b"
      ],
      "execution_count": null,
      "outputs": [
        {
          "output_type": "stream",
          "name": "stdout",
          "text": [
            "16\n"
          ]
        },
        {
          "output_type": "execute_result",
          "data": {
            "text/plain": [
              "16"
            ]
          },
          "metadata": {},
          "execution_count": 6
        }
      ]
    },
    {
      "cell_type": "markdown",
      "metadata": {
        "id": "jrdlWhjhl8KY"
      },
      "source": [
        "##Exercise 6\n",
        "* Assign the value **5** to the variable **num1**\n",
        "* Increase the value of the variable **num1** by 4 units with shorthands\n",
        "* Assign the value **10.5** to the variable **num2**\n",
        "* Decrease the value of the variable **num2** by 1 with shorthands\n",
        "* Multiply the sum of **num1** and **num2** by 3 and print the result\n"
      ]
    },
    {
      "cell_type": "code",
      "metadata": {
        "colab": {
          "base_uri": "https://localhost:8080/"
        },
        "id": "tPA0Xd9SriiX",
        "outputId": "f8a05250-cdf0-4aa3-f356-2995dd4a2632"
      },
      "source": [
        "\n",
        "num1 = 5\n",
        "num1 += 4\n",
        "num2 = 10.5\n",
        "num2 -= 1\n",
        "print((num1 + num2) * 3)"
      ],
      "execution_count": null,
      "outputs": [
        {
          "output_type": "stream",
          "name": "stdout",
          "text": [
            "55.5\n"
          ]
        }
      ]
    },
    {
      "cell_type": "markdown",
      "metadata": {
        "id": "jXirb_t5l-Tz"
      },
      "source": [
        "##Exercise 7\n",
        "* Ask the user to enter a number and save it in the variable **var1**\n",
        "* Print **var1**"
      ]
    },
    {
      "cell_type": "code",
      "metadata": {
        "colab": {
          "base_uri": "https://localhost:8080/"
        },
        "id": "YasKtICYrpLt",
        "outputId": "a64b162f-060d-4916-9bb7-6caca2e24d0d"
      },
      "source": [
        "var1 = input(\"Enter a number: \")\n",
        "print(var1)"
      ],
      "execution_count": null,
      "outputs": [
        {
          "output_type": "stream",
          "name": "stdout",
          "text": [
            "Enter a number: 11\n",
            "11\n"
          ]
        }
      ]
    },
    {
      "cell_type": "markdown",
      "metadata": {
        "id": "tXB5WS39l-dX"
      },
      "source": [
        "#==================================\n",
        "#Strings and sequences\n",
        "#==================================\n"
      ]
    },
    {
      "cell_type": "markdown",
      "metadata": {
        "id": "oElI0hETl3WC"
      },
      "source": [
        "##Exercise 1\n",
        "* Assign the string **I like programming in Python** to the variable **myString**\n",
        "* Print the variable **myString**\n",
        "\n"
      ]
    },
    {
      "cell_type": "code",
      "metadata": {
        "colab": {
          "base_uri": "https://localhost:8080/"
        },
        "id": "v2wBQvdSryLW",
        "outputId": "0659b3af-0e7f-443c-d1d3-39025c11f53e"
      },
      "source": [
        "myString = \"I like programming in Python\"\n",
        "print(myString)"
      ],
      "execution_count": null,
      "outputs": [
        {
          "output_type": "stream",
          "name": "stdout",
          "text": [
            "I like programming in Python\n"
          ]
        }
      ]
    },
    {
      "cell_type": "markdown",
      "metadata": {
        "id": "COM_fzwpmosO"
      },
      "source": [
        "\n",
        "##Exercise 2\n",
        "* Assign the **4.0** string to the **score** variable\n",
        "* Print the concatenation of the string **result =**  and the **score** variable\n"
      ]
    },
    {
      "cell_type": "code",
      "metadata": {
        "colab": {
          "base_uri": "https://localhost:8080/"
        },
        "id": "lmjps7HWr9cl",
        "outputId": "9a473b27-6541-4238-b092-b18bc89d7343"
      },
      "source": [
        "score = \"4.0\"\n",
        "print(\"result = \" + score)"
      ],
      "execution_count": null,
      "outputs": [
        {
          "output_type": "stream",
          "name": "stdout",
          "text": [
            "result = 4.0\n"
          ]
        }
      ]
    },
    {
      "cell_type": "markdown",
      "metadata": {
        "id": "RjnBuqm0mpLR"
      },
      "source": [
        "\n",
        "##Exercise 3\n",
        "* Assign the following strings to the variables **s1**, **s2** and **s3** respectively:<br>\n",
        "The value \"3.14\" is an approximation of pi<br>\n",
        "She's going to school<br>\n",
        "Ungaretti wrote \"M'illumino d'immenso\" in 1917<br>\n",
        "* Print **s1**, **s2** and **s3**\n",
        "\n"
      ]
    },
    {
      "cell_type": "code",
      "metadata": {
        "colab": {
          "base_uri": "https://localhost:8080/"
        },
        "id": "IvDLlEU1sHvO",
        "outputId": "27d70586-a452-49a0-8c44-b283d8fc214f"
      },
      "source": [
        "s1 = 'The value \"3.14\" is an approximation of pi'\n",
        "s2 = \"She's going to school\"\n",
        "s3 = \"Ungaretti wrote \\\"M'illumino d'immenso\\\" in 1917\"\n",
        "print(s1)\n",
        "print(s2)\n",
        "print(s3)\n"
      ],
      "execution_count": null,
      "outputs": [
        {
          "output_type": "stream",
          "name": "stdout",
          "text": [
            "The value \"3.14\" is an approximation of pi\n",
            "She's going to school\n",
            "Ungaretti wrote \"M'illumino d'immenso\" in 1917\n"
          ]
        }
      ]
    },
    {
      "cell_type": "markdown",
      "metadata": {
        "id": "8L_U9PqimpVp"
      },
      "source": [
        "##Exercise 4\n",
        "* Print the concatenation of the first, third, fifth and seventh characters of the string **It is never too late to learn**\n"
      ]
    },
    {
      "cell_type": "code",
      "metadata": {
        "colab": {
          "base_uri": "https://localhost:8080/"
        },
        "id": "pX1oVDowsvOo",
        "outputId": "5d040d75-8524-4ca4-f1aa-f03ee537a164"
      },
      "source": [
        "s = \"It is never too late to learn\"\n",
        "print(s[0]+s[2]+s[4]+s[6])"
      ],
      "execution_count": null,
      "outputs": [
        {
          "output_type": "stream",
          "name": "stdout",
          "text": [
            "I sn\n"
          ]
        }
      ]
    },
    {
      "cell_type": "markdown",
      "metadata": {
        "id": "_EZJZeZ8mpe3"
      },
      "source": [
        "\n",
        "##Exercise 5\n",
        "* Print the concatenation of the last, third last, fifth last character of the string **A good thought can save a lot of time**\n"
      ]
    },
    {
      "cell_type": "code",
      "metadata": {
        "colab": {
          "base_uri": "https://localhost:8080/"
        },
        "id": "JOpYFQoos9XJ",
        "outputId": "9fdf64c9-46b5-4c4a-a46e-695187be2278"
      },
      "source": [
        "s = \"A good thought can save a lot of time\"\n",
        "print(s[-1]+s[-3]+s[-5])"
      ],
      "execution_count": null,
      "outputs": [
        {
          "output_type": "stream",
          "name": "stdout",
          "text": [
            "ei \n"
          ]
        }
      ]
    },
    {
      "cell_type": "markdown",
      "metadata": {
        "id": "sUpXxMAympn5"
      },
      "source": [
        "\n",
        "##Exercise 6\n",
        "* Print 10 times, always in a new line, the string **I'm faster than Bart Simpson**\n",
        "\n"
      ]
    },
    {
      "cell_type": "code",
      "metadata": {
        "colab": {
          "base_uri": "https://localhost:8080/"
        },
        "id": "0fOsqXXytD0b",
        "outputId": "d216fe3b-756d-4993-9d36-d2c6bc472cf5"
      },
      "source": [
        "s = \"I'm faster than Bart Simpson\\n\"\n",
        "print(s*10)"
      ],
      "execution_count": null,
      "outputs": [
        {
          "output_type": "stream",
          "name": "stdout",
          "text": [
            "I'm faster than Bart Simpson\n",
            "I'm faster than Bart Simpson\n",
            "I'm faster than Bart Simpson\n",
            "I'm faster than Bart Simpson\n",
            "I'm faster than Bart Simpson\n",
            "I'm faster than Bart Simpson\n",
            "I'm faster than Bart Simpson\n",
            "I'm faster than Bart Simpson\n",
            "I'm faster than Bart Simpson\n",
            "I'm faster than Bart Simpson\n",
            "\n"
          ]
        }
      ]
    },
    {
      "cell_type": "markdown",
      "metadata": {
        "id": "DmgxUEq9mpw8"
      },
      "source": [
        "##Exercise 7\n",
        "* Extract (and print) from the string **Programming in Python** the substring **Program**\n",
        "\n"
      ]
    },
    {
      "cell_type": "code",
      "metadata": {
        "colab": {
          "base_uri": "https://localhost:8080/"
        },
        "id": "y4Wq0GlStKjK",
        "outputId": "2c6d1c41-9162-43c8-f1a5-c35261d3fa60"
      },
      "source": [
        "s = \"Programming in Python\"\n",
        "print(s[0:7])"
      ],
      "execution_count": null,
      "outputs": [
        {
          "output_type": "stream",
          "name": "stdout",
          "text": [
            "Program\n"
          ]
        }
      ]
    },
    {
      "cell_type": "markdown",
      "metadata": {
        "id": "Pxe7iLspmp4w"
      },
      "source": [
        "##Exercise 8\n",
        "* Make lowercase all the characters in the string **Very Often Who Seeks Finds**\n",
        "* Print the resulting string\n",
        "\n"
      ]
    },
    {
      "cell_type": "code",
      "metadata": {
        "colab": {
          "base_uri": "https://localhost:8080/"
        },
        "id": "Bw0C6ldptWUm",
        "outputId": "f4cda8ee-0db4-45c1-bd22-df3805f5f35c"
      },
      "source": [
        "s = \"Very Often Who Seeks Finds\"\n",
        "s = s.lower()\n",
        "print(s)"
      ],
      "execution_count": null,
      "outputs": [
        {
          "output_type": "stream",
          "name": "stdout",
          "text": [
            "very often who seeks finds\n"
          ]
        }
      ]
    },
    {
      "cell_type": "markdown",
      "metadata": {
        "id": "devazRsSmqA3"
      },
      "source": [
        "##Exercise 9\n",
        "* Assign the value **5** to the variable **var1**\n",
        "* Assign the value **6** to the variable **var2**\n",
        "* Assign the concatenation of the string **total =** to the variable **res** with the result of the sum of **var1** and **var2**\n",
        "* Print the variable **res**"
      ]
    },
    {
      "cell_type": "code",
      "metadata": {
        "colab": {
          "base_uri": "https://localhost:8080/"
        },
        "id": "vdtj9a8wtcKl",
        "outputId": "84133f6a-fc2e-4474-eb04-a2f49f6fc99d"
      },
      "source": [
        "var1 = 5\n",
        "var2 = 6\n",
        "res = \"total = \" + str(var1 + var2)\n",
        "print(res)"
      ],
      "execution_count": null,
      "outputs": [
        {
          "output_type": "stream",
          "name": "stdout",
          "text": [
            "total = 11\n"
          ]
        }
      ]
    },
    {
      "cell_type": "markdown",
      "metadata": {
        "id": "xmiGtawhnZpy"
      },
      "source": [
        "#================\n",
        "#Lists\n",
        "#================\n",
        "\n",
        "\n"
      ]
    },
    {
      "cell_type": "markdown",
      "metadata": {
        "id": "XwS0M0FboGAF"
      },
      "source": [
        "##Exercise 1\n",
        "* Create the list **myList** containing the following elements:<br> \n",
        "1<br>\n",
        "two<br>\n",
        "True<br>\n",
        "* Print the second and third elements of the list\n",
        "\n"
      ]
    },
    {
      "cell_type": "code",
      "metadata": {
        "colab": {
          "base_uri": "https://localhost:8080/"
        },
        "id": "M0K3YozPtwOu",
        "outputId": "49169893-015a-48e3-eaa8-0f42724e8278"
      },
      "source": [
        "myList = [1, \"two\", True]\n",
        "print(myList[1:])"
      ],
      "execution_count": null,
      "outputs": [
        {
          "output_type": "stream",
          "name": "stdout",
          "text": [
            "['two', True]\n"
          ]
        }
      ]
    },
    {
      "cell_type": "markdown",
      "metadata": {
        "id": "2S2r0_j1oGJY"
      },
      "source": [
        "##Exercise 2\n",
        "* Create the empty list **myList**\n",
        "* Add the following items to myList:<br> \n",
        "one<br>\n",
        "three<br>\n",
        "four<br>\n",
        "* Print the list\n",
        "* Insert between the first and second element of the list the following element:<br> \n",
        "two<br>\n",
        "* Print the list again\n",
        "\n"
      ]
    },
    {
      "cell_type": "code",
      "metadata": {
        "colab": {
          "base_uri": "https://localhost:8080/"
        },
        "id": "7mSyV5Q-t4Xd",
        "outputId": "2db80852-a334-4999-9a14-c4eca99d1b2f"
      },
      "source": [
        "myList = []\n",
        "myList.append(\"one\")\n",
        "myList.append(\"three\")\n",
        "myList.append(\"four\")\n",
        "print(myList)\n",
        "myList.insert(1,\"two\")\n",
        "print(myList)"
      ],
      "execution_count": null,
      "outputs": [
        {
          "output_type": "stream",
          "name": "stdout",
          "text": [
            "['one', 'three', 'four']\n",
            "['one', 'two', 'three', 'four']\n"
          ]
        }
      ]
    },
    {
      "cell_type": "markdown",
      "metadata": {
        "id": "u-xxmsotoGSX"
      },
      "source": [
        "##Exercise 3\n",
        "* Create the list **names1** containing the following elements: Dominic, Paul, Mary\n",
        "* Create the list **names2** containing the following elements: Tony, Antony, Gabriel\n",
        "* Print the list **names3** containing all the names contained in **names1** and **names2**\n",
        "* Print the third element of the list **names3**\n",
        "* Print the first two elements of the list **names3**\n",
        "* Print the names contained in **names3** in reverse alphabetical order\n",
        "\n"
      ]
    },
    {
      "cell_type": "code",
      "metadata": {
        "colab": {
          "base_uri": "https://localhost:8080/"
        },
        "id": "mBH890g-uIce",
        "outputId": "e1825ca9-1ff4-4729-ea69-85aa0d683362"
      },
      "source": [
        "names1 = [\"Dominic\", \"Paul\", \"Mary\"]\n",
        "names2 = [\"Tony\", \"Antony\", \"Gabriel\"]\n",
        "names3 = names1 + names2\n",
        "print(names3)\n",
        "print(names3[2])\n",
        "print(names3[:2])\n",
        "names3.sort(reverse=True)\n",
        "print(names3)"
      ],
      "execution_count": null,
      "outputs": [
        {
          "output_type": "stream",
          "name": "stdout",
          "text": [
            "['Dominic', 'Paul', 'Mary', 'Tony', 'Antony', 'Gabriel']\n",
            "Mary\n",
            "['Dominic', 'Paul']\n",
            "['Tony', 'Paul', 'Mary', 'Gabriel', 'Dominic', 'Antony']\n"
          ]
        }
      ]
    },
    {
      "cell_type": "markdown",
      "metadata": {
        "id": "7wVhit-uoGbG"
      },
      "source": [
        "##Exercise 4\n",
        "* Create the **color** list containing the following elements: white, red, green, blue, yellow\n",
        "* Print the concatenation of the first and the third element of the list\n",
        "* Remove the last item in the list\n",
        "* Print the number of items contained in the list\n",
        "* Add the **purple** color at the end of the list\n",
        "* Print the modified list\n",
        "* Replace the first color in the list with the color **orange**\n",
        "* Remove the **red** color from the list\n",
        "* Print the resulting list"
      ]
    },
    {
      "cell_type": "code",
      "metadata": {
        "colab": {
          "base_uri": "https://localhost:8080/"
        },
        "id": "UW1jl5qrujJU",
        "outputId": "efb18376-4c85-444f-8c40-858c15aa91cd"
      },
      "source": [
        "color = [\"white\", \"red\", \"green\", \"blue\", \"yellow\"]\n",
        "print(color[0]+color[2])\n",
        "color.remove(color[-1])\n",
        "print(len(color))\n",
        "color.append(\"purple\")\n",
        "print(color)\n",
        "color[0]=\"orange\"\n",
        "color.remove(\"red\")\n",
        "print(color)"
      ],
      "execution_count": null,
      "outputs": [
        {
          "output_type": "stream",
          "name": "stdout",
          "text": [
            "whitegreen\n",
            "4\n",
            "['white', 'red', 'green', 'blue', 'purple']\n",
            "['orange', 'green', 'blue', 'purple']\n"
          ]
        }
      ]
    },
    {
      "cell_type": "markdown",
      "metadata": {
        "id": "H-Gh1u20oGkG"
      },
      "source": [
        "#================\n",
        "#Tuples\n",
        "#================\n",
        "\n",
        "\n"
      ]
    },
    {
      "cell_type": "markdown",
      "metadata": {
        "id": "Z5zP1OWxoVa9"
      },
      "source": [
        "##Exercise 1\n",
        "* Create the tuple **myTuple** containing the following elements: 123, Tyrion, Lannister, employee\n",
        "* Print the second and the third element of the tuple\n",
        "* Print the last element of the tuple\n",
        "* Print the number of elements contained in the tuple\n",
        "* Print the index of the **Lannister** element contained in the tuple\n",
        "\n"
      ]
    },
    {
      "cell_type": "code",
      "metadata": {
        "colab": {
          "base_uri": "https://localhost:8080/"
        },
        "id": "UfhQ345xvEkH",
        "outputId": "4882bd1f-0b9d-43c6-a3dc-9e7112904c37"
      },
      "source": [
        "myTuple = (123, \"Tyrion\", \"Lannister\", \"employee\")\n",
        "print(myTuple[1:3])\n",
        "print(myTuple[-1])\n",
        "print(len(myTuple))\n",
        "print(myTuple.index(\"Lannister\"))\n"
      ],
      "execution_count": null,
      "outputs": [
        {
          "output_type": "stream",
          "name": "stdout",
          "text": [
            "('Tyrion', 'Lannister')\n",
            "employee\n",
            "4\n",
            "2\n"
          ]
        }
      ]
    },
    {
      "cell_type": "markdown",
      "metadata": {
        "id": "1poUoZR_oVd1"
      },
      "source": [
        "#================\n",
        "#Sets\n",
        "#================\n",
        "\n"
      ]
    },
    {
      "cell_type": "markdown",
      "metadata": {
        "id": "RmadTbq-oVhf"
      },
      "source": [
        "##Exercise 1\n",
        "* Create the set **months** containing the following elements: Jan, Feb, Mar, Apr, May, Jun\n",
        "* Print the set\n",
        "* Remove the **Jan** element from the set\n",
        "* Print the set\n",
        "\n"
      ]
    },
    {
      "cell_type": "code",
      "metadata": {
        "colab": {
          "base_uri": "https://localhost:8080/"
        },
        "id": "z7XVVa1FvZP2",
        "outputId": "4ab270a7-6858-4cd6-e967-e81a3deda699"
      },
      "source": [
        "months = {\"Jan\", \"Feb\", \"Mar\", \"Apr\", \"May\", \"Jun\"}\n",
        "print(months)\n",
        "months.remove(\"Jan\")\n",
        "print(months)"
      ],
      "execution_count": null,
      "outputs": [
        {
          "output_type": "stream",
          "name": "stdout",
          "text": [
            "{'Jan', 'May', 'Mar', 'Jun', 'Feb', 'Apr'}\n",
            "{'May', 'Mar', 'Jun', 'Feb', 'Apr'}\n"
          ]
        }
      ]
    },
    {
      "cell_type": "markdown",
      "metadata": {
        "id": "muEtDQpmoVkd"
      },
      "source": [
        "##Exercise 2\n",
        "* Create an empty set called **days**\n",
        "* Add the following items to the set: Mon, Tue, Wed, Thu, Fri, Sat, Sun\n",
        "* Print the set\n",
        "* Calculate and print the number of items in the set\n",
        "\n"
      ]
    },
    {
      "cell_type": "code",
      "metadata": {
        "colab": {
          "base_uri": "https://localhost:8080/"
        },
        "id": "tLP43ftkvn1d",
        "outputId": "dd7b8389-2c3a-48de-d859-a9bc5dea75da"
      },
      "source": [
        "days = set()\n",
        "days.add(\"Mon\")\n",
        "days.add(\"Tue\")\n",
        "days.add(\"Wed\")\n",
        "days.add(\"Thu\")\n",
        "days.add(\"Fri\")\n",
        "days.add(\"Sat\")\n",
        "days.add(\"Sun\")\n",
        "print(days)\n",
        "print(len(days))"
      ],
      "execution_count": null,
      "outputs": [
        {
          "output_type": "stream",
          "name": "stdout",
          "text": [
            "{'Wed', 'Thu', 'Tue', 'Mon', 'Fri', 'Sun', 'Sat'}\n",
            "7\n"
          ]
        }
      ]
    },
    {
      "cell_type": "markdown",
      "metadata": {
        "id": "IPl5OHu3oVnO"
      },
      "source": [
        "##Exercise 3\n",
        "* Assign the value **123456789** to the string called **numString**\n",
        "* Create the set **num** containing the numbers from 1 to 9 starting from **numString**\n",
        "* Print the set\n",
        "* Delete all elements from the set\n",
        "\n"
      ]
    },
    {
      "cell_type": "code",
      "metadata": {
        "colab": {
          "base_uri": "https://localhost:8080/"
        },
        "id": "-Cz9Ewqav4zS",
        "outputId": "810ef906-cce7-4805-ec48-5450b613bd5c"
      },
      "source": [
        "numString = \"123456789\"\n",
        "num = set(numString)\n",
        "print(num)\n",
        "num.clear()\n",
        "print(num)"
      ],
      "execution_count": null,
      "outputs": [
        {
          "output_type": "stream",
          "name": "stdout",
          "text": [
            "{'3', '7', '5', '4', '1', '6', '9', '2', '8'}\n",
            "set()\n"
          ]
        }
      ]
    },
    {
      "cell_type": "markdown",
      "metadata": {
        "id": "1UMSyD_toVqX"
      },
      "source": [
        "##Exercise 4\n",
        "* Create the set called **set1** containing the following elements: 1, 2, 3, 4, 5\n",
        "* Create the set called **set2** containing the following elements: 1, 2, 3, 4, 5, 6, 7, 8, 9\n",
        "* Verify that **set1** is contained in **set2**\n",
        "* Generate the set called **set3** containing only the elements not in common between **set1** and **set2**\n",
        "* Print the maximum value of the obtained set\n",
        "\n"
      ]
    },
    {
      "cell_type": "code",
      "metadata": {
        "colab": {
          "base_uri": "https://localhost:8080/"
        },
        "id": "RiITDxSHwAx1",
        "outputId": "7ec72d84-58f4-492f-cd94-d69798dbab7a"
      },
      "source": [
        "set1 = {1, 2, 3, 4, 5}\n",
        "set2 = {1, 2, 3, 4, 5, 6, 7, 8, 9}\n",
        "set1_in_set2 = set1 < set2\n",
        "print(\"set1 in set2: \" + str(set1_in_set2))\n",
        "set3 = set1.symmetric_difference(set2)\n",
        "print(set3)\n",
        "print(\"set3 maximum value: \" + str(max(set3)))\n"
      ],
      "execution_count": null,
      "outputs": [
        {
          "output_type": "stream",
          "name": "stdout",
          "text": [
            "set1 in set2: True\n",
            "{6, 7, 8, 9}\n",
            "set3 maximum value: 9\n"
          ]
        }
      ]
    },
    {
      "cell_type": "markdown",
      "metadata": {
        "id": "HnyhA66VoVte"
      },
      "source": [
        "##Exercise 5\n",
        "* Create the set called **names** containing the following elements: Mario, Luigi\n",
        "* Create the set called **primes** containing the following elements: 2, 3, 5, 7, 11\n",
        "* Create the set called **shapes** containing the following elements: triangle, square, circle\n",
        "* Create the set called **finalSet** as the union of the previous three sets\n",
        "\n"
      ]
    },
    {
      "cell_type": "code",
      "metadata": {
        "colab": {
          "base_uri": "https://localhost:8080/"
        },
        "id": "XWo9Ic0kwkIM",
        "outputId": "6d524822-6f46-43ec-c456-a5cb6bd1eecb"
      },
      "source": [
        "names = {\"Mario\", \"Luigi\"}\n",
        "primes = {2, 3, 5, 7, 11}\n",
        "shapes = {\"triangle\", \"square\", \"circle\"}\n",
        "finalSet = names | primes | shapes\n",
        "print(finalSet)"
      ],
      "execution_count": null,
      "outputs": [
        {
          "output_type": "stream",
          "name": "stdout",
          "text": [
            "{'Luigi', 2, 3, 'Mario', 5, 7, 'circle', 'square', 11, 'triangle'}\n"
          ]
        }
      ]
    },
    {
      "cell_type": "markdown",
      "metadata": {
        "id": "PebjxaDaoVwV"
      },
      "source": [
        "#================\n",
        "#Dictionaries\n",
        "#================\n",
        "\n"
      ]
    },
    {
      "cell_type": "markdown",
      "metadata": {
        "id": "_MU25wMQoVzl"
      },
      "source": [
        "##Exercise 1\n",
        "* Create an empty dictionary called **myDiz**\n",
        "* add to **myDiz** 5 elements having:\n",
        "* - the first 5 letters of the alphabet as keys\n",
        "* - as corresponding values the numbers from 1 to 5\n",
        "* Print the created dictionary\n",
        "* Print the value associated with the key **c**\n",
        "\n"
      ]
    },
    {
      "cell_type": "code",
      "metadata": {
        "colab": {
          "base_uri": "https://localhost:8080/"
        },
        "id": "pCZ4YWU0w32j",
        "outputId": "9dced761-547a-494f-8a4a-969002f40cfa"
      },
      "source": [
        "myDiz = {}\n",
        "\n",
        "myDiz[\"a\"] = 1 \n",
        "myDiz[\"b\"] = 2\n",
        "myDiz[\"c\"] = 3\n",
        "myDiz[\"d\"] = 4\n",
        "myDiz[\"e\"] = 5\n",
        "\n",
        "# alternative solution\n",
        "#myDiz.update({'a':1,'b':2,'c':3,'d':4,'e':5})\n",
        "\n",
        "print(myDiz)\n",
        "print(myDiz[\"c\"])"
      ],
      "execution_count": null,
      "outputs": [
        {
          "output_type": "stream",
          "name": "stdout",
          "text": [
            "{'a': 1, 'b': 2, 'c': 3, 'd': 4, 'e': 5}\n",
            "3\n"
          ]
        }
      ]
    },
    {
      "cell_type": "markdown",
      "metadata": {
        "id": "3kbXbFfgoV1_"
      },
      "source": [
        "##Exercise 2\n",
        "* Create the **square** dictionary with the following 5 key-value pairs:<br>\n",
        "5:25<br>\n",
        "3:9<br>\n",
        "4:16<br>\n",
        "1:1<br>\n",
        "2:4<br>\n",
        "* Print all the dictionary keys\n",
        "* Print all the dictionary values\n",
        "* Add the key-value pair **6:36** to the dictionary\n",
        "* Delete the **1:1** pair from the dictionary\n",
        "* Set the value **111** in correspondence with key **5**\n",
        "* Print the dictionary\n",
        "* Remove all items from the dictionary\n",
        "\n"
      ]
    },
    {
      "cell_type": "code",
      "metadata": {
        "colab": {
          "base_uri": "https://localhost:8080/"
        },
        "id": "l1m-ANTnxD_K",
        "outputId": "6fd70875-6692-4cef-8f46-a62f3e246514"
      },
      "source": [
        "square = {5:25, 3:9, 4:16, 1:1, 2:4}\n",
        "print(square.keys())\n",
        "print(square.items())\n",
        "square[6] = 36\n",
        "del square[1]\n",
        "square[5] = 111\n",
        "print(square)\n",
        "square.clear()\n",
        "print(square)"
      ],
      "execution_count": null,
      "outputs": [
        {
          "output_type": "stream",
          "name": "stdout",
          "text": [
            "dict_keys([5, 3, 4, 1, 2])\n",
            "dict_items([(5, 25), (3, 9), (4, 16), (1, 1), (2, 4)])\n",
            "{5: 111, 3: 9, 4: 16, 2: 4, 6: 36}\n",
            "{}\n"
          ]
        }
      ]
    },
    {
      "cell_type": "markdown",
      "metadata": {
        "id": "li3K5dTsoV4-"
      },
      "source": [
        "##Exercise 3\n",
        "* Create the **diz1** dictionary containing the following key-value pairs:<br> 1:10<br>\n",
        "2:20<br>\n",
        "* Create the **diz2** dictionary containing the following key-value pairs:<br> 3:30<br>\n",
        "4:40<br>\n",
        "* Create the **diz3** dictionary containing the following key-value pairs:<br> 5:50<br>\n",
        "6:60<br>\n",
        "* Add the elements of **diz2** and **diz3** to **diz1**\n",
        "* Print **diz1**."
      ]
    },
    {
      "cell_type": "code",
      "metadata": {
        "colab": {
          "base_uri": "https://localhost:8080/"
        },
        "id": "y8htL7IJxYfC",
        "outputId": "05b8fa1f-74e4-4cd5-f5a4-5a6384058008"
      },
      "source": [
        "diz1 = {1:10, 2:20}\n",
        "diz2 = {3:30, 4:40}\n",
        "diz3 = {5:50, 6:60}\n",
        "diz1.update(diz2)\n",
        "diz1.update(diz3)\n",
        "print(diz1)"
      ],
      "execution_count": null,
      "outputs": [
        {
          "output_type": "stream",
          "name": "stdout",
          "text": [
            "{1: 10, 2: 20, 3: 30, 4: 40, 5: 50, 6: 60}\n"
          ]
        }
      ]
    },
    {
      "cell_type": "markdown",
      "metadata": {
        "id": "oW6xdQe4oV70"
      },
      "source": [
        "#================\n",
        "#Conditional statements\n",
        "#================\n",
        "\n",
        "\n"
      ]
    },
    {
      "cell_type": "markdown",
      "metadata": {
        "id": "oOUbci0foV-9"
      },
      "source": [
        "##Exercise 1\n",
        "* Write a code snippet that:\n",
        "* - asks the user to enter 3 integers\n",
        "* - prints the maximum of the entered values\n",
        "\n"
      ]
    },
    {
      "cell_type": "code",
      "metadata": {
        "colab": {
          "base_uri": "https://localhost:8080/"
        },
        "id": "YKGRL1pbxhoc",
        "outputId": "249552ae-bb2f-42f9-e381-78007f5f4e8c"
      },
      "source": [
        "num1 = int(input(\"enter the first integer: \"))\n",
        "num2 = int(input(\"enter the second integer: \"))\n",
        "num3 = int(input(\"enter the last integer: \"))\n",
        "if num1 >= num2 and num1 >= num3:\n",
        "    print(\"the max value among entered numbers is \" + str(num1))\n",
        "elif num2 >= num1 and num2 >= num3:\n",
        "    print(\"the max value among entered numbers is \" + str(num2))\n",
        "else:\n",
        "    print(\"the max value among entered numbers is \" + str(num3))"
      ],
      "execution_count": null,
      "outputs": [
        {
          "output_type": "stream",
          "name": "stdout",
          "text": [
            "enter the first integer: 1\n",
            "enter the second integer: 2\n",
            "enter the last integer: 3\n",
            "the max value among entered numbers is 3\n"
          ]
        }
      ]
    },
    {
      "cell_type": "markdown",
      "metadata": {
        "id": "CGc0Ea3EoWI1"
      },
      "source": [
        "##Exercise 2\n",
        "* Write a code snippet that:\n",
        "* - saves a name entered by the user in the variable **name1**\n",
        "* - saves a second name entered by the user in the variable **name2**\n",
        "* - prints the longest name among those entered\n",
        "\n"
      ]
    },
    {
      "cell_type": "code",
      "metadata": {
        "colab": {
          "base_uri": "https://localhost:8080/"
        },
        "id": "hMZT_iQWyE6R",
        "outputId": "cd543a80-bb30-4594-b2b2-381dc1ca392f"
      },
      "source": [
        "name1 = input(\"enter the first name: \")\n",
        "name2 = input(\"enter the second name: \")\n",
        "if len(name1) > len(name2):\n",
        "    print(name1)\n",
        "elif len(name1) < len(name2):\n",
        "    print(name2)\n",
        "else:\n",
        "    print(\"the 2 entered names have the same length\")"
      ],
      "execution_count": null,
      "outputs": [
        {
          "output_type": "stream",
          "name": "stdout",
          "text": [
            "enter the first name: Marc\n",
            "enter the second name: Paul\n",
            "the 2 entered names have the same length\n"
          ]
        }
      ]
    },
    {
      "cell_type": "markdown",
      "metadata": {
        "id": "pqJXC8WFoWLs"
      },
      "source": [
        "##Exercise 3\n",
        "* Write a code snippet that:\n",
        "* - asks the user to enter an integer between 1 and 7 (extremes included)\n",
        "* - print the first 3 letters of the corresponding day of the week (e.g. 6 ==> **Sat**)\n",
        "* - prints the string **wrong input** in case of illegal values entered\n",
        "\n"
      ]
    },
    {
      "cell_type": "code",
      "metadata": {
        "colab": {
          "base_uri": "https://localhost:8080/"
        },
        "id": "-TN-dua7yhvZ",
        "outputId": "cdd22909-58de-4f95-e9df-f8a3aaaa63f2"
      },
      "source": [
        "num = int(input(\"enter an integer between 1 and 7 (extremes included): \"))\n",
        "if num == 1:\n",
        "    print(\"Mon\")\n",
        "elif num == 2:\n",
        "    print(\"Tue\")\n",
        "elif num == 3:\n",
        "    print(\"Wed\")\n",
        "elif num == 4:\n",
        "    print(\"Thu\")\n",
        "elif num == 5:\n",
        "    print(\"Fri\")\n",
        "elif num == 6:\n",
        "    print(\"Sat\")\n",
        "elif num == 7:\n",
        "    print(\"Sun\")\n",
        "else:\n",
        "    print(\"wrong input\")"
      ],
      "execution_count": null,
      "outputs": [
        {
          "output_type": "stream",
          "name": "stdout",
          "text": [
            "enter an integer between 1 and 7 (extremes included): 7\n",
            "Sun\n"
          ]
        }
      ]
    },
    {
      "cell_type": "markdown",
      "metadata": {
        "id": "I1JLPQEpoWT1"
      },
      "source": [
        "##Exercise 4\n",
        "* Write a code snippet that:\n",
        "* - asks the user to enter a person's **name** and **age**\n",
        "* - check that the name entered is valid (it must contain only letters)\n",
        "* - check that the age entered is valid (number between 0 and 130)\n",
        "* - based on the name (whether it ends with the letter \"o\" or not) and age, print one of these sentences:<br>\n",
        "name is an adult man<br>\n",
        "name is an underage man<br>\n",
        "name is an adult woman<br>\n",
        "name is an underage woman<br>\n",
        "\n",
        "* NB: normally names ending in \"o\" (at least in Italy) are considered men names"
      ]
    },
    {
      "cell_type": "code",
      "metadata": {
        "colab": {
          "base_uri": "https://localhost:8080/"
        },
        "id": "Pv3CjSSyy6v4",
        "outputId": "8a4277e2-f68b-4a78-cedf-35f0a50abadc"
      },
      "source": [
        "name = input(\"enter a name (only letters): \")\n",
        "age = input(\"enter age (integer between 0 and 130): \")\n",
        "\n",
        "is_valid_name = name.isalpha()\n",
        "is_valid_age = age.isdigit() and (int(age)>=0 and int(age)<=130)\n",
        "\n",
        "if is_valid_name and is_valid_age:\n",
        "\n",
        "    man = name.endswith(\"o\")\n",
        "    adult = (int(age)>=18)\n",
        "    if man and adult:\n",
        "        print(name + \" is an adult man\")\n",
        "    elif man and not adult:\n",
        "        print(name + \" is an underage man\")\n",
        "    elif not man and adult:\n",
        "        print(name + \" is an adult woman\")\n",
        "    elif not man and not adult:\n",
        "        print(name + \" is an underage woman\")\n",
        "        \n",
        "else:\n",
        "    print(\"wrong data entered\")"
      ],
      "execution_count": null,
      "outputs": [
        {
          "output_type": "stream",
          "name": "stdout",
          "text": [
            "enter a name (only letters): Cinzia\n",
            "enter age (integer between 0 and 130): 31\n",
            "Cinzia is an adult woman\n"
          ]
        }
      ]
    },
    {
      "cell_type": "markdown",
      "metadata": {
        "id": "RunWo0zuoWX8"
      },
      "source": [
        "#================\n",
        "#Iteration\n",
        "#================\n",
        "\n",
        "\n"
      ]
    },
    {
      "cell_type": "markdown",
      "metadata": {
        "id": "gV5Xb0_SoSJY"
      },
      "source": [
        "##Exercise 1\n",
        "* Using a while loop print the first 20 natural numbers\n",
        "\n"
      ]
    },
    {
      "cell_type": "code",
      "metadata": {
        "colab": {
          "base_uri": "https://localhost:8080/"
        },
        "id": "b5kEpYi30Tvp",
        "outputId": "f55a67de-6acd-4132-f910-defad2c47a15"
      },
      "source": [
        "i = 1\n",
        "while i <= 20:\n",
        "    print(i)\n",
        "    i = i + 1"
      ],
      "execution_count": null,
      "outputs": [
        {
          "output_type": "stream",
          "name": "stdout",
          "text": [
            "1\n",
            "2\n",
            "3\n",
            "4\n",
            "5\n",
            "6\n",
            "7\n",
            "8\n",
            "9\n",
            "10\n",
            "11\n",
            "12\n",
            "13\n",
            "14\n",
            "15\n",
            "16\n",
            "17\n",
            "18\n",
            "19\n",
            "20\n"
          ]
        }
      ]
    },
    {
      "cell_type": "markdown",
      "metadata": {
        "id": "lQsO35R4qqxV"
      },
      "source": [
        "##Exercise 2\n",
        "* Write a code snippet that:\n",
        "* - assigns a string containing a name to the variable **name**\n",
        "* - asks the user to type a name until the name typed is the same as the one contained in the **name** variable\n",
        "* - prints \"Correct!\" when the name entered by the user is the same as that contained in the **name** variable\n",
        "\n"
      ]
    },
    {
      "cell_type": "code",
      "metadata": {
        "colab": {
          "base_uri": "https://localhost:8080/"
        },
        "id": "90yz3n0s0VpK",
        "outputId": "428e3426-694b-40df-8244-1f8d16a36d2a"
      },
      "source": [
        "name = \"marco\"\n",
        "entered = input(\"Enter a name: \")\n",
        "while entered != name:\n",
        "    entered = input(\"Not correct, enter another name: \")\n",
        "print(\"Correct!\")"
      ],
      "execution_count": null,
      "outputs": [
        {
          "output_type": "stream",
          "name": "stdout",
          "text": [
            "Enter a name: Marco\n",
            "Not correct, enter another name: marco\n",
            "Correct!\n"
          ]
        }
      ]
    },
    {
      "cell_type": "markdown",
      "metadata": {
        "id": "Fp8x8Utpqq5m"
      },
      "source": [
        "##Exercise 3\n",
        "* Write a code snippet that:\n",
        "* - assigns a string containing a name to the variable **name**\n",
        "* - assigns an integer between 1 and 9 to the **maxAttempts** variable\n",
        "* - asks the user to type a name until one of the following 2 conditions is met:\n",
        "*  - * 1) the name entered is the same as that contained in the **name** variable\n",
        "*  - *  2) the number of attempts is greater than the value of **maxAttempts**\n",
        "* - prints \"Name guessed!\" when the name entered by the user is the same as that contained in the **name** variable\n",
        "* - prints \"No more attempts ...\" when the number of attempts available without guessing has been exceeded\n",
        "\n"
      ]
    },
    {
      "cell_type": "code",
      "metadata": {
        "colab": {
          "base_uri": "https://localhost:8080/"
        },
        "id": "xAafUt1T0-kh",
        "outputId": "ab098862-4ca6-4d39-b42a-aa16623104a0"
      },
      "source": [
        "name = \"marco\"\n",
        "maxAttempts = 3\n",
        "numAttempt = 1\n",
        "exceededAttempts = False\n",
        "\n",
        "nameEntered = input(\"Enter a name: \")\n",
        "while nameEntered != name and not exceededAttempts:\n",
        "    if numAttempt < maxAttempts:\n",
        "        nameEntered = input(\"Non guessed, enter another name: \")\n",
        "        numAttempt = numAttempt + 1\n",
        "    else:\n",
        "        exceededAttempts = True\n",
        "\n",
        "if exceededAttempts:\n",
        "    print(\"No more attempts ...\")\n",
        "else:\n",
        "    print(\"Name guessed!\")"
      ],
      "execution_count": null,
      "outputs": [
        {
          "output_type": "stream",
          "name": "stdout",
          "text": [
            "Enter a name: lucia\n",
            "Non guessed, enter another name: sergio\n",
            "Non guessed, enter another name: marco\n",
            "Name guessed!\n"
          ]
        }
      ]
    },
    {
      "cell_type": "markdown",
      "metadata": {
        "id": "Z1qmzb3WqrCF"
      },
      "source": [
        "##Exercise 4\n",
        "* Write a code snippet that prints all natural numbers between 1000 and 2000 (inclusive) that are multiples of 5 and divisible by 7.\n",
        "\n"
      ]
    },
    {
      "cell_type": "code",
      "metadata": {
        "colab": {
          "base_uri": "https://localhost:8080/"
        },
        "id": "QgJhox-K2Cbr",
        "outputId": "7a13ee2b-9005-471f-d9e8-af07d92eea72"
      },
      "source": [
        "for i in range(1000,2000,1):\n",
        "    if i % 5 == 0 and i % 7 == 0:\n",
        "        print(i)"
      ],
      "execution_count": null,
      "outputs": [
        {
          "output_type": "stream",
          "name": "stdout",
          "text": [
            "1015\n",
            "1050\n",
            "1085\n",
            "1120\n",
            "1155\n",
            "1190\n",
            "1225\n",
            "1260\n",
            "1295\n",
            "1330\n",
            "1365\n",
            "1400\n",
            "1435\n",
            "1470\n",
            "1505\n",
            "1540\n",
            "1575\n",
            "1610\n",
            "1645\n",
            "1680\n",
            "1715\n",
            "1750\n",
            "1785\n",
            "1820\n",
            "1855\n",
            "1890\n",
            "1925\n",
            "1960\n",
            "1995\n"
          ]
        }
      ]
    },
    {
      "cell_type": "markdown",
      "metadata": {
        "id": "6smW8VW4qrFd"
      },
      "source": [
        "##Exercise 5\n",
        "* Write a code snippet that parsing integers from 1 to 50 prints:\n",
        "* - the number of even integers\n",
        "* - the number of integers divisible by 3\n",
        "\n"
      ]
    },
    {
      "cell_type": "code",
      "metadata": {
        "colab": {
          "base_uri": "https://localhost:8080/"
        },
        "id": "wN8Kne-52HmS",
        "outputId": "42b4c9e9-a38d-4a4e-deaa-a0d53338b0d7"
      },
      "source": [
        "numEven = 0\n",
        "numDivBy3 = 0\n",
        "for i in range(1,50,1):\n",
        "    if i % 2 == 0:\n",
        "        numEven += 1\n",
        "    if i % 3 == 0:\n",
        "        numDivBy3 += 1\n",
        "print(numEven)\n",
        "print(numDivBy3)"
      ],
      "execution_count": null,
      "outputs": [
        {
          "output_type": "stream",
          "name": "stdout",
          "text": [
            "24\n",
            "16\n"
          ]
        }
      ]
    },
    {
      "cell_type": "markdown",
      "metadata": {
        "id": "GsqNSf4-qrL4"
      },
      "source": [
        "##Exercise 6\n",
        "* Write a code snippet that prints the multiplication table of the first 10 integers\n",
        "* (consult the print documentation if necessary)\n",
        "\n"
      ]
    },
    {
      "cell_type": "code",
      "metadata": {
        "colab": {
          "base_uri": "https://localhost:8080/"
        },
        "id": "k1kIkp822WV4",
        "outputId": "3fd6d669-886a-4763-d569-6d6138e3f0ec"
      },
      "source": [
        "for i in range(1,11,1):\n",
        "    for j in range(1,11,1):\n",
        "        print(str(i*j), end = \"\\t\")\n",
        "        if j == 10:\n",
        "            print(\"\")"
      ],
      "execution_count": null,
      "outputs": [
        {
          "output_type": "stream",
          "name": "stdout",
          "text": [
            "1\t2\t3\t4\t5\t6\t7\t8\t9\t10\t\n",
            "2\t4\t6\t8\t10\t12\t14\t16\t18\t20\t\n",
            "3\t6\t9\t12\t15\t18\t21\t24\t27\t30\t\n",
            "4\t8\t12\t16\t20\t24\t28\t32\t36\t40\t\n",
            "5\t10\t15\t20\t25\t30\t35\t40\t45\t50\t\n",
            "6\t12\t18\t24\t30\t36\t42\t48\t54\t60\t\n",
            "7\t14\t21\t28\t35\t42\t49\t56\t63\t70\t\n",
            "8\t16\t24\t32\t40\t48\t56\t64\t72\t80\t\n",
            "9\t18\t27\t36\t45\t54\t63\t72\t81\t90\t\n",
            "10\t20\t30\t40\t50\t60\t70\t80\t90\t100\t\n"
          ]
        }
      ]
    },
    {
      "cell_type": "markdown",
      "metadata": {
        "id": "xwzKqqwdqrOw"
      },
      "source": [
        "##Exercise 7\n",
        "* Write a code snippet that produces the following output:<br>\n",
        "1<br>\n",
        "22<br>\n",
        "333<br>\n",
        "4444<br>\n",
        "55555<br>"
      ]
    },
    {
      "cell_type": "code",
      "metadata": {
        "colab": {
          "base_uri": "https://localhost:8080/"
        },
        "id": "rxPtzpsZ2i-7",
        "outputId": "6f79ccaf-8106-483f-8424-b3850072f303"
      },
      "source": [
        "for i in range(6):\n",
        "    print(str(i) * i)"
      ],
      "execution_count": null,
      "outputs": [
        {
          "output_type": "stream",
          "name": "stdout",
          "text": [
            "\n",
            "1\n",
            "22\n",
            "333\n",
            "4444\n",
            "55555\n"
          ]
        }
      ]
    },
    {
      "cell_type": "markdown",
      "metadata": {
        "id": "iyEfC_YvqrRn"
      },
      "source": [
        "#==================\n",
        "#Comprehensions\n",
        "#==================\n",
        "\n"
      ]
    },
    {
      "cell_type": "markdown",
      "metadata": {
        "id": "Yqk8PePLqrUt"
      },
      "source": [
        "\n",
        "##Exercise 1\n",
        "* Enter all even integers between 0 and 50 in the list called **myList**\n",
        "\n"
      ]
    },
    {
      "cell_type": "code",
      "metadata": {
        "colab": {
          "base_uri": "https://localhost:8080/"
        },
        "id": "bmVtYJQ32w4w",
        "outputId": "df6f61ae-04ec-4d54-a51f-ad0bd4c4af01"
      },
      "source": [
        "myList = [i for i in range(2,50,2)]\n",
        "print(myList)"
      ],
      "execution_count": null,
      "outputs": [
        {
          "output_type": "stream",
          "name": "stdout",
          "text": [
            "[2, 4, 6, 8, 10, 12, 14, 16, 18, 20, 22, 24, 26, 28, 30, 32, 34, 36, 38, 40, 42, 44, 46, 48]\n"
          ]
        }
      ]
    },
    {
      "cell_type": "markdown",
      "metadata": {
        "id": "64GbZug9qrYF"
      },
      "source": [
        "##Exercise 2\n",
        "* Create and print the list **list1** containing all the integers between 1 and 20\n",
        "* Create and print the list **list2** containing the elements of **list1** multiplied by three\n"
      ]
    },
    {
      "cell_type": "code",
      "metadata": {
        "colab": {
          "base_uri": "https://localhost:8080/"
        },
        "id": "P6IjDa7g21fH",
        "outputId": "e528c568-f379-4788-f72c-e6f8246a4897"
      },
      "source": [
        "list1 = [i for i in range(1,21,1)]\n",
        "print(list1)\n",
        "list2 = [i*3 for i in list1]\n",
        "print(list2)"
      ],
      "execution_count": null,
      "outputs": [
        {
          "output_type": "stream",
          "name": "stdout",
          "text": [
            "[1, 2, 3, 4, 5, 6, 7, 8, 9, 10, 11, 12, 13, 14, 15, 16, 17, 18, 19, 20]\n",
            "[3, 6, 9, 12, 15, 18, 21, 24, 27, 30, 33, 36, 39, 42, 45, 48, 51, 54, 57, 60]\n"
          ]
        }
      ]
    },
    {
      "cell_type": "markdown",
      "metadata": {
        "id": "K4w6lTZ7ral0"
      },
      "source": [
        "\n",
        "##Exercise 3\n",
        "* Create and print the **words** list containing the following elements:<br> \n",
        "a<br>\n",
        "list<br> \n",
        "of<br>\n",
        "words<br>\n",
        "* Create and print the **firstLetters** list containing the first letter of each element of **words**\n"
      ]
    },
    {
      "cell_type": "code",
      "metadata": {
        "colab": {
          "base_uri": "https://localhost:8080/"
        },
        "id": "5_kUukWm3Ny4",
        "outputId": "aad91e56-a6ad-4636-a8de-65effe939e7d"
      },
      "source": [
        "words = [\"a\", \"list\", \"of\", \"words\"]\n",
        "print(words)\n",
        "firstLetters = [x[0] for x in words]\n",
        "print(firstLetters)"
      ],
      "execution_count": null,
      "outputs": [
        {
          "output_type": "stream",
          "name": "stdout",
          "text": [
            "['a', 'list', 'of', 'words']\n",
            "['a', 'l', 'o', 'w']\n"
          ]
        }
      ]
    },
    {
      "cell_type": "markdown",
      "metadata": {
        "id": "hH5fKK0urauO"
      },
      "source": [
        "\n",
        "##Exercise 4\n",
        "* Create and print the **numbers** list containing all the numbers in the string **350 Fifth Avenue, New York City, NY 10118**"
      ]
    },
    {
      "cell_type": "code",
      "metadata": {
        "colab": {
          "base_uri": "https://localhost:8080/"
        },
        "id": "leY3Kvgp3a6-",
        "outputId": "82f740fb-6c4d-4c65-81c2-b5565c9a04a6"
      },
      "source": [
        "myString = \"350 Fifth Avenue, New York City, NY 10118\"\n",
        "numbers = [x for x in myString if x.isdigit()]\n",
        "print(numbers)"
      ],
      "execution_count": null,
      "outputs": [
        {
          "output_type": "stream",
          "name": "stdout",
          "text": [
            "['3', '5', '0', '1', '0', '1', '1', '8']\n"
          ]
        }
      ]
    },
    {
      "cell_type": "markdown",
      "metadata": {
        "id": "WleU8BDVra4U"
      },
      "source": [
        "#==================\n",
        "#Functions\n",
        "#==================\n",
        "\n",
        "\n"
      ]
    },
    {
      "cell_type": "markdown",
      "metadata": {
        "id": "YoFycaxJriO1"
      },
      "source": [
        "##Exercise 1\n",
        "* Write a function that calculates the number of seconds contained in a number of days, hours, and minutes entered by the user.\n",
        "\n"
      ]
    },
    {
      "cell_type": "code",
      "metadata": {
        "colab": {
          "base_uri": "https://localhost:8080/"
        },
        "id": "QMWbglj83vpR",
        "outputId": "81f1c864-0a92-412d-ba43-8e95155ee619"
      },
      "source": [
        "def getSeconds(days, hours, minutes):\n",
        "    secInDays = days * 3600 *24\n",
        "    secInHours = hours * 3600\n",
        "    secInMinutes = minutes * 60\n",
        "    secTotal = secInDays + secInHours + secInMinutes\n",
        "    return(secTotal)\n",
        "\n",
        "print(getSeconds(1,2,1))"
      ],
      "execution_count": null,
      "outputs": [
        {
          "output_type": "stream",
          "name": "stdout",
          "text": [
            "93660\n"
          ]
        }
      ]
    },
    {
      "cell_type": "markdown",
      "metadata": {
        "id": "lHCm7ESRriRg"
      },
      "source": [
        "##Exercise 2\n",
        "* Write a function that calculates the factorial of an integer given as input by the user.\n",
        "* (the factorial of a natural number n is the product of all positive integers less than or equal to n)\n",
        "\n"
      ]
    },
    {
      "cell_type": "code",
      "metadata": {
        "colab": {
          "base_uri": "https://localhost:8080/"
        },
        "id": "ESOI3FoW4LR5",
        "outputId": "b9a63c40-e7e6-4fee-c44b-324961cf98e0"
      },
      "source": [
        "def factorial(n):\n",
        "    if n == 1:\n",
        "        return n\n",
        "    else:\n",
        "        result = n * factorial(n-1)\n",
        "        return result\n",
        "\n",
        "print(factorial(4))"
      ],
      "execution_count": null,
      "outputs": [
        {
          "output_type": "stream",
          "name": "stdout",
          "text": [
            "24\n"
          ]
        }
      ]
    },
    {
      "cell_type": "markdown",
      "metadata": {
        "id": "o9p8kZlJriXI"
      },
      "source": [
        "##Exercise 3\n",
        "* Write a function that returns a list of numbers representing the lengths of the words contained in a list of strings provided as input to the function.\n",
        "\n"
      ]
    },
    {
      "cell_type": "code",
      "metadata": {
        "colab": {
          "base_uri": "https://localhost:8080/"
        },
        "id": "wAnJ_zZo4Ubg",
        "outputId": "78b26a2b-bccb-46a5-d5ae-93d4a790a78e"
      },
      "source": [
        "def getLenghtList(listOfWords):\n",
        "    lenghtList = []\n",
        "    for word in listOfWords:\n",
        "        lenghtList.append(len(word))\n",
        "    return lenghtList\n",
        "\n",
        "myList = [\"Hello\", \"world\", \"Python\"]\n",
        "print(getLenghtList(myList))"
      ],
      "execution_count": null,
      "outputs": [
        {
          "output_type": "stream",
          "name": "stdout",
          "text": [
            "[5, 5, 6]\n"
          ]
        }
      ]
    },
    {
      "cell_type": "markdown",
      "metadata": {
        "id": "wl02skT_riaD"
      },
      "source": [
        "##Exercise 4\n",
        "* Write a function that calculates the sum of the elements of a list of numbers provided as input to the function.\n"
      ]
    },
    {
      "cell_type": "code",
      "metadata": {
        "colab": {
          "base_uri": "https://localhost:8080/"
        },
        "id": "4-undDSQ4yBQ",
        "outputId": "7de72519-865b-4b62-8af8-9f58166fa095"
      },
      "source": [
        "def sum_func(numList):\n",
        "    result = 0\n",
        "    for num in numList:\n",
        "    \tresult += num\n",
        "    return result\n",
        "\n",
        "myList = [2, 3, 4]\n",
        "print(sum_func(myList))"
      ],
      "execution_count": null,
      "outputs": [
        {
          "output_type": "stream",
          "name": "stdout",
          "text": [
            "9\n"
          ]
        }
      ]
    },
    {
      "cell_type": "markdown",
      "metadata": {
        "id": "8nGm03xiric8"
      },
      "source": [
        "\n",
        "##Exercise 5\n",
        "* Write a function that takes a character as input and returns:\n",
        "* - True if the character is a vowel\n",
        "* - False otherwise"
      ]
    },
    {
      "cell_type": "code",
      "metadata": {
        "colab": {
          "base_uri": "https://localhost:8080/"
        },
        "id": "DkkmWotY5Qy-",
        "outputId": "6f86f466-f6ff-41d4-a8be-48ac5b8c100d"
      },
      "source": [
        "def isVowel(char):\n",
        "    vowels = \"aeiou\"\n",
        "    if char in vowels:\n",
        "        return True\n",
        "    else:\n",
        "        return False\n",
        "\n",
        "print(isVowel(\"a\"))\n",
        "print(isVowel(\"s\"))"
      ],
      "execution_count": null,
      "outputs": [
        {
          "output_type": "stream",
          "name": "stdout",
          "text": [
            "True\n",
            "False\n"
          ]
        }
      ]
    },
    {
      "cell_type": "markdown",
      "metadata": {
        "id": "KHzYQB4frifv"
      },
      "source": [
        "#==================\n",
        "#Exceptions\n",
        "#==================\n",
        "\n",
        "\n"
      ]
    },
    {
      "cell_type": "markdown",
      "metadata": {
        "id": "xJLlOQmzrilj"
      },
      "source": [
        "##Exercise 1\n",
        "Write a code snippet that:\n",
        "- saves an integer entered by the user in the variable **num1**\n",
        "- saves a second integer entered by the user in the variable **num2**\n",
        "- prints the sum of the 2 numbers or an error message if a string was entered in place of a number\n",
        "\n",
        "\n"
      ]
    },
    {
      "cell_type": "code",
      "metadata": {
        "colab": {
          "base_uri": "https://localhost:8080/"
        },
        "id": "yPvEVA-S5saf",
        "outputId": "2f227d18-e424-45a4-92ef-6b10b236d602"
      },
      "source": [
        "num1 = input(\"enter an integer: \")\n",
        "num2 = input(\"enter another integer: \")\n",
        "\n",
        "try:\n",
        "    print(int(num1) + int(num2))\n",
        "except ValueError:\n",
        "    print(\"Error, at least one of the entered values is not an integer!\")"
      ],
      "execution_count": null,
      "outputs": [
        {
          "output_type": "stream",
          "name": "stdout",
          "text": [
            "enter an integer: 1\n",
            "enter another integer: a\n",
            "Error, at least one of the entered values is not an integer!\n"
          ]
        }
      ]
    },
    {
      "cell_type": "markdown",
      "metadata": {
        "id": "cTpjoVT_riuN"
      },
      "source": [
        "##Exercise 2\n",
        "* The following block of code has one or more sources of possible errors at runtime.\n",
        "* Modify the code appropriately in order to make it more robust.\n",
        "* Test the robustness of the code.<br><br>\n",
        "\n",
        "def myFunction1():<br>\n",
        "    &nbsp;&nbsp;&nbsp;&nbsp;for i in range(3):<br>\n",
        "        &nbsp;&nbsp;&nbsp;&nbsp;&nbsp;&nbsp;&nbsp;&nbsp;x = int (input(\"Please enter a number:\"))<br>\n",
        "        &nbsp;&nbsp;&nbsp;&nbsp;&nbsp;&nbsp;&nbsp;&nbsp;y = int (input(\"Please enter another number:\"))<br>\n",
        "        &nbsp;&nbsp;&nbsp;&nbsp;&nbsp;&nbsp;&nbsp;&nbsp;print (str(x) + \"/\" + str(y) + \" = \" + str(x / y))<br><br>\n",
        "\n",
        "myFunction1()\n",
        "\n",
        "\n"
      ]
    },
    {
      "cell_type": "code",
      "metadata": {
        "colab": {
          "base_uri": "https://localhost:8080/"
        },
        "id": "kZ6dmiMZ6B5I",
        "outputId": "24ccfde7-8a6b-4c1e-bb2f-b154ba97877d"
      },
      "source": [
        "def myFunction1():\n",
        "    while True:\n",
        "       try:\n",
        "            x = int( input( \"Please enter a number: \" ) )\n",
        "            y = int( input( \"Please enter another number: \" ) )\n",
        "            print( str(x) + \" / \" + str(y) + \" = \" + str(x/y) )\n",
        "            break\n",
        "       except ZeroDivisionError:\n",
        "            print(\"It is not possible to divide by 0!\")\n",
        "       except ValueError:\n",
        "            print(\"You were asked to enter a number . . .\")\n",
        "       except:\n",
        "            print(\"Unexpected error!\")\n",
        "\n",
        "myFunction1()  "
      ],
      "execution_count": null,
      "outputs": [
        {
          "output_type": "stream",
          "name": "stdout",
          "text": [
            "Please enter a number: q\n",
            "You were asked to enter a number . . .\n",
            "Please enter a number: 3\n",
            "Please enter another number: 4\n",
            "3 / 4 = 0.75\n"
          ]
        }
      ]
    },
    {
      "cell_type": "markdown",
      "metadata": {
        "id": "FyS9p1yhrixM"
      },
      "source": [
        "##Exercise 3\n",
        "* The following block of code has one or more sources of possible errors at runtime.\n",
        "* Modify the code appropriately in order to make it more robust.\n",
        "Test the robustness of the code.<br><br>\n",
        "\n",
        "def myFunction2(L):<br>\n",
        "    &nbsp;&nbsp;&nbsp;&nbsp;sum = []<br>\n",
        "    &nbsp;&nbsp;&nbsp;&nbsp;for i in range (len (L)):<br>\n",
        "        &nbsp;&nbsp;&nbsp;&nbsp;&nbsp;&nbsp;&nbsp;&nbsp;sum.append(L [i] + L [i + 1])<br>\n",
        "    &nbsp;&nbsp;&nbsp;&nbsp;print(\"sum =\" + str (sum))\n",
        "    \n",
        "L = [10, 3, 5, 6, 9, 3]\n",
        "myFunction2(L)\n",
        "\n",
        "\n"
      ]
    },
    {
      "cell_type": "code",
      "metadata": {
        "colab": {
          "base_uri": "https://localhost:8080/"
        },
        "id": "ZSzhARtQ61DO",
        "outputId": "a52b0a89-f989-4b09-c502-11086318d0f5"
      },
      "source": [
        "def myFunction2( L ):\n",
        "    sum = 0\n",
        "    pairSum = []\n",
        "    for i in range(len(L)):\n",
        "        try:\n",
        "            pairSum.append( L[i]+L[i+1] )\n",
        "        except IndexError:\n",
        "            continue\n",
        "        except TypeError:\n",
        "            continue    \n",
        "    print( \"pair sum = \" + str(pairSum))\n",
        "\n",
        "L = [ 10, 3, 5, 6, 9, 3 ]\n",
        "myFunction2(L)"
      ],
      "execution_count": null,
      "outputs": [
        {
          "output_type": "stream",
          "name": "stdout",
          "text": [
            "pair sum = [13, 8, 11, 15, 12]\n"
          ]
        }
      ]
    },
    {
      "cell_type": "markdown",
      "metadata": {
        "id": "KO6wv5hRri4N"
      },
      "source": [
        "##Exercise 4\n",
        "* The following block of code has one or more sources of possible errors at runtime.\n",
        "* Modify the code appropriately in order to make it more robust.\n",
        "* Test the robustness of the code.<br><br>\n",
        "\n",
        "def printFile (filename):<br>\n",
        "   &nbsp;&nbsp;&nbsp;&nbsp;file = open (filename, \"r\")<br>\n",
        "   &nbsp;&nbsp;&nbsp;&nbsp;for line in file:<br>\n",
        "       &nbsp;&nbsp;&nbsp;&nbsp;&nbsp;&nbsp;&nbsp;&nbsp;print (line.upper ())<br>\n",
        "   &nbsp;&nbsp;&nbsp;&nbsp;file.close ()<br>\n",
        "   <br>\n",
        "open(\"fileNotYetCreated.txt\", \"w\").close()<br>\n",
        "printFile(\"fileNotYetCreated.txt\")<br>\n",
        "printFile(\"./Dessssktop/error.txt\")<br>"
      ]
    },
    {
      "cell_type": "code",
      "metadata": {
        "colab": {
          "base_uri": "https://localhost:8080/"
        },
        "id": "DOXj0-z67NXt",
        "outputId": "dc859b29-e9f8-46f9-964b-ff428893acf0"
      },
      "source": [
        "def printFile(filename):\n",
        "    try:\n",
        "       file = open(filename, \"r\")\n",
        "    except FileNotFoundError:\n",
        "       print( \"***Error*** File \" + str(filename) + \" not found!\" )\n",
        "       return False\n",
        "    \n",
        "    for line in file:\n",
        "        print(line.upper())\n",
        "    file.close()\n",
        "    return True\n",
        "\n",
        "open( \"fileNotYetCreated.txt\", \"w\" ).close()\n",
        "printFile(\"fileNotYetCreated.txt\")        \n",
        "printFile(\"./Dessssktop/error.txt\")"
      ],
      "execution_count": null,
      "outputs": [
        {
          "output_type": "stream",
          "name": "stdout",
          "text": [
            "***Error*** File ./Dessssktop/error.txt not found!\n"
          ]
        },
        {
          "output_type": "execute_result",
          "data": {
            "text/plain": [
              "False"
            ]
          },
          "metadata": {},
          "execution_count": 72
        }
      ]
    },
    {
      "cell_type": "markdown",
      "metadata": {
        "id": "IsVEvnjdri-X"
      },
      "source": [
        "#==================\n",
        "#Modules\n",
        "#==================\n",
        "\n",
        "\n"
      ]
    },
    {
      "cell_type": "markdown",
      "metadata": {
        "id": "Tg19G9nprjBU"
      },
      "source": [
        "##Exercise 1\n",
        "* Write a code snippet that:\n",
        "* - Create the **squares** list containing the following elements: 16, 9, 64, 25\n",
        "* - Generates and prints the **roots** list containing the roots of the elements contained in **squares**\n",
        "\n"
      ]
    },
    {
      "cell_type": "code",
      "metadata": {
        "colab": {
          "base_uri": "https://localhost:8080/"
        },
        "id": "_2kjEuib76vW",
        "outputId": "fb61c705-32a8-4ad0-8fca-181b0019be5d"
      },
      "source": [
        "from math import sqrt\n",
        "squares = [16, 9, 64, 25]\n",
        "roots = []\n",
        "for elem in squares:\n",
        "    roots.append(sqrt(elem))\n",
        "print(roots)"
      ],
      "execution_count": null,
      "outputs": [
        {
          "output_type": "stream",
          "name": "stdout",
          "text": [
            "[4.0, 3.0, 8.0, 5.0]\n"
          ]
        }
      ]
    },
    {
      "cell_type": "markdown",
      "metadata": {
        "id": "Idjoen63ra9N"
      },
      "source": [
        "##Exercise 2\n",
        "* Write a code snippet that:\n",
        "* - Create the **numbers** list containing 15 randomly generated values between 20 and 80\n",
        "* - Print the **numbers** list after having sorted the elements\n",
        "* - Compute and print mean, median and standard deviation related to the values of **numbers**\n",
        "\n"
      ]
    },
    {
      "cell_type": "code",
      "metadata": {
        "colab": {
          "base_uri": "https://localhost:8080/"
        },
        "id": "UKeMTI1_8IEv",
        "outputId": "a49a1585-7338-49cd-953f-355bb4cf9cc5"
      },
      "source": [
        "from random import randrange\n",
        "import statistics\n",
        "\n",
        "numbers = []\n",
        "for i in range(15):\n",
        "    numbers.append(randrange(20, 80))\n",
        "\n",
        "numbers.sort()\n",
        "print(numbers)    \n",
        "print(\"mean: \" + str(statistics.mean(numbers)))\n",
        "print(\"median: \" + str(statistics.median(numbers)))\n",
        "print(\"standard deviation: \" + str(statistics.pstdev(numbers)))"
      ],
      "execution_count": null,
      "outputs": [
        {
          "output_type": "stream",
          "name": "stdout",
          "text": [
            "[24, 25, 25, 30, 31, 31, 41, 43, 45, 55, 59, 59, 64, 67, 67]\n",
            "mean: 44.4\n",
            "median: 43\n",
            "standard deviation: 15.692036196746425\n"
          ]
        }
      ]
    },
    {
      "cell_type": "markdown",
      "metadata": {
        "id": "eqcyvCFkra_8"
      },
      "source": [
        "##Exercise 3\n",
        "* Write a code snippet that prints the name and version of your operating system.\n",
        "\n"
      ]
    },
    {
      "cell_type": "code",
      "metadata": {
        "colab": {
          "base_uri": "https://localhost:8080/"
        },
        "id": "DzleEECl8dby",
        "outputId": "6b4c64ed-3087-42dc-a84a-a9bb4e8a9a62"
      },
      "source": [
        "import platform\n",
        "\n",
        "print(\"operating system: \" + platform.system())\n",
        "print(\"version: \" + platform.release())\n"
      ],
      "execution_count": null,
      "outputs": [
        {
          "output_type": "stream",
          "name": "stdout",
          "text": [
            "operating system: Linux\n",
            "version: 5.4.104+\n"
          ]
        }
      ]
    },
    {
      "cell_type": "markdown",
      "metadata": {
        "id": "R_Iw3w8JrbDM"
      },
      "source": [
        "#==================\n",
        "#Files\n",
        "#==================\n",
        "\n"
      ]
    },
    {
      "cell_type": "markdown",
      "metadata": {
        "id": "jhYcCcGIoSL9"
      },
      "source": [
        "##Exercise 1\n",
        "* Create (manually) the text file **test.txt** containing at least 5 non-blank lines in the working directory.\n",
        "* Write a code snippet that reads and print the entire text file created earlier.\n",
        "\n"
      ]
    },
    {
      "cell_type": "code",
      "metadata": {
        "colab": {
          "base_uri": "https://localhost:8080/"
        },
        "id": "1kfU1Nmx8szn",
        "outputId": "8dca8984-2c98-4939-8d63-302d49f22bab"
      },
      "source": [
        "def readFile(fname):\n",
        "        txt = open(fname)\n",
        "        print(txt.read())\n",
        "\n",
        "readFile(\"test.txt\")"
      ],
      "execution_count": null,
      "outputs": [
        {
          "output_type": "stream",
          "name": "stdout",
          "text": [
            "Lorem ipsum dolor sit amet, consectetur adipisici elit, \n",
            "sed eiusmod tempor incidunt ut labore et dolore magna aliqua. \n",
            "Ut enim ad minim veniam, quis nostrud exercitation ullamco \n",
            "laboris nisi ut aliquid ex ea commodi consequat. Quis aute \n",
            "iure reprehenderit in voluptate velit esse cillum dolore eu \n",
            "fugiat nulla pariatur. Excepteur sint obcaecat cupiditat non \n",
            "proident, sunt in culpa qui officia deserunt mollit anim id \n",
            "est laborum. ParolaSmisuratamenteLunga.\n"
          ]
        }
      ]
    },
    {
      "cell_type": "markdown",
      "metadata": {
        "id": "KhK054VXvFDk"
      },
      "source": [
        "##Exercise 2\n",
        "* Create (manually) the text file **test.txt** containing at least 5 non-blank lines in the working directory.\n",
        "* Write a snippet of code that reads the file one line at a time and saves it to a list.\n",
        "* Print the resulting list.\n",
        "\n"
      ]
    },
    {
      "cell_type": "code",
      "metadata": {
        "colab": {
          "base_uri": "https://localhost:8080/"
        },
        "id": "DXZ0L52oUZVO",
        "outputId": "f1c30b1f-7048-4429-bc1f-e346b39427d9"
      },
      "source": [
        "def getLinesFromFileAsList(filename):\n",
        "    with open(filename) as f:\n",
        "        lines = f.readlines()\n",
        "    return lines\n",
        "\n",
        "myList = getLinesFromFileAsList(\"test.txt\")\n",
        "print(myList)"
      ],
      "execution_count": null,
      "outputs": [
        {
          "output_type": "stream",
          "name": "stdout",
          "text": [
            "['Lorem ipsum dolor sit amet, consectetur adipisici elit, \\n', 'sed eiusmod tempor incidunt ut labore et dolore magna aliqua. \\n', 'Ut enim ad minim veniam, quis nostrud exercitation ullamco \\n', 'laboris nisi ut aliquid ex ea commodi consequat. Quis aute \\n', 'iure reprehenderit in voluptate velit esse cillum dolore eu \\n', 'fugiat nulla pariatur. Excepteur sint obcaecat cupiditat non \\n', 'proident, sunt in culpa qui officia deserunt mollit anim id \\n', 'est laborum. ParolaSmisuratamenteLunga.']\n"
          ]
        }
      ]
    },
    {
      "cell_type": "markdown",
      "metadata": {
        "id": "RfkFs_nQvFGf"
      },
      "source": [
        "\n",
        "##Exercise 3\n",
        "* Create (manually) the text file **test.txt** containing at least 5 non-blank lines in the working directory.\n",
        "* Write a code snippet that prints the longest word contained in the test.txt file\n",
        "\n"
      ]
    },
    {
      "cell_type": "code",
      "metadata": {
        "colab": {
          "base_uri": "https://localhost:8080/"
        },
        "id": "iGk0WcUZU0oD",
        "outputId": "167518aa-1cfa-4959-b359-6b3f3cbc3965"
      },
      "source": [
        "def getLongestWordInFile(filename):\n",
        "    with open(filename, 'r') as f:\n",
        "        wordList = f.read().split()\n",
        "    \n",
        "    longest = wordList[0]\n",
        "    for word in wordList:\n",
        "        if len(word) >= len(longest):\n",
        "            longest = word\n",
        "    \n",
        "    return longest\n",
        "\n",
        "print(getLongestWordInFile('test.txt'))"
      ],
      "execution_count": null,
      "outputs": [
        {
          "output_type": "stream",
          "name": "stdout",
          "text": [
            "ThisWordIsReallyLong.\n"
          ]
        }
      ]
    },
    {
      "cell_type": "markdown",
      "metadata": {
        "id": "6TTu-hL8vFMa"
      },
      "source": [
        "##Exercise 4\n",
        "* Write a code snippet that:\n",
        "* - Create the **color** list containing the following elements: green, white, red, black, yellow\n",
        "* - Writes each element of the list to a new line of the **colors.txt** text file\n",
        "* - Reads and prints the contents of the colors.txt file\n",
        "\n"
      ]
    },
    {
      "cell_type": "code",
      "metadata": {
        "colab": {
          "base_uri": "https://localhost:8080/"
        },
        "id": "_3mGUueMVnH5",
        "outputId": "1029a3f0-2563-4c7d-d6d9-f23ab67cf05f"
      },
      "source": [
        "color = [\"green\", \"white\", \"red\", \"black\", \"yellow\"]\n",
        "with open(\"colors.txt\", \"w\") as myFile:\n",
        "    for c in color:\n",
        "        myFile.write(str(c) + \"\\n\")\n",
        "\n",
        "colorFile = open(\"colors.txt\")\n",
        "print(colorFile.read())"
      ],
      "execution_count": null,
      "outputs": [
        {
          "output_type": "stream",
          "name": "stdout",
          "text": [
            "green\n",
            "white\n",
            "red\n",
            "black\n",
            "yellow\n",
            "\n"
          ]
        }
      ]
    },
    {
      "cell_type": "markdown",
      "metadata": {
        "id": "ks_Qp1axvFPi"
      },
      "source": [
        "##Exercise 5\n",
        "* Create (manually) the text file **test.txt** containing at least 5 non-blank lines in the working directory.\n",
        "* Write a code snippet that:\n",
        "* - removes all newline characters from the text contained in the test.txt file\n",
        "* - print the contents of the file cleaned of newlines"
      ]
    },
    {
      "cell_type": "code",
      "metadata": {
        "colab": {
          "base_uri": "https://localhost:8080/"
        },
        "id": "2H82vJ8KV_NA",
        "outputId": "928f4650-ddc3-4610-f124-b94773188729"
      },
      "source": [
        "def removeNewlines(filename):\n",
        "    lines = open(filename).readlines()\n",
        "    return [line.rstrip('\\n') for line in lines]\n",
        "\n",
        "print(removeNewlines(\"test.txt\"))"
      ],
      "execution_count": null,
      "outputs": [
        {
          "output_type": "stream",
          "name": "stdout",
          "text": [
            "['Lorem ipsum dolor sit amet, consectetur adipisici elit, ', 'sed eiusmod tempor incidunt ut labore et dolore magna aliqua. ', 'Ut enim ad minim veniam, quis nostrud exercitation ullamco ', 'laboris nisi ut aliquid ex ea commodi consequat. Quis aute ', 'iure reprehenderit in voluptate velit esse cillum dolore eu ', 'fugiat nulla pariatur. Excepteur sint obcaecat cupiditat non ', 'proident, sunt in culpa qui officia deserunt mollit anim id ', 'est laborum. ThisWordIsReallyLong.']\n"
          ]
        }
      ]
    },
    {
      "cell_type": "markdown",
      "metadata": {
        "id": "DXj9lLN4vFSf"
      },
      "source": [
        "#==================\n",
        "#Classes\n",
        "#==================\n",
        "\n",
        "\n"
      ]
    },
    {
      "cell_type": "markdown",
      "metadata": {
        "id": "4kv_EVZlvFVf"
      },
      "source": [
        "##Exercise 1\n",
        "* Write a Python class named **Circle** constructed by a radius and two methods which will compute the area and the perimeter of a circle.\n",
        "* Create a circle object and compute its area and perimeter.\n",
        "\n"
      ]
    },
    {
      "cell_type": "code",
      "metadata": {
        "colab": {
          "base_uri": "https://localhost:8080/"
        },
        "id": "LkS-jzUJW76v",
        "outputId": "a6c728ab-f2df-4d34-a422-95570699b107"
      },
      "source": [
        "from math import pi\n",
        "\n",
        "class Circle:\n",
        "  \n",
        "  def __init__(self, radius):\n",
        "    self.radius = radius\n",
        "\n",
        "  def get_area(self):\n",
        "    return self.radius * self.radius * pi\n",
        "    \n",
        "  def get_perimeter(self):\n",
        "    return self.radius * 2 * pi\n",
        "\n",
        "circle = Circle(5)\n",
        "area = circle.get_area()\n",
        "perimeter = circle.get_perimeter()\n",
        "print(area)\n",
        "print(perimeter)"
      ],
      "execution_count": null,
      "outputs": [
        {
          "output_type": "stream",
          "name": "stdout",
          "text": [
            "78.53981633974483\n",
            "31.41592653589793\n"
          ]
        }
      ]
    },
    {
      "cell_type": "markdown",
      "metadata": {
        "id": "oCg-HI9qvFer"
      },
      "source": [
        "##Exercise 2\n",
        "* Model the relationship between the following 2 concepts:\n",
        "* - Square\n",
        "* - Rectangle\n",
        "* Add the necessary methods for computing the area and the perimeter."
      ]
    },
    {
      "cell_type": "code",
      "metadata": {
        "colab": {
          "base_uri": "https://localhost:8080/"
        },
        "id": "7G-vubOeYkSw",
        "outputId": "7aa4ae60-6397-4d5e-cf10-0cbaabeeb4b3"
      },
      "source": [
        "class Rectangle:\n",
        "  \n",
        "  def __init__(self, side1, side2):\n",
        "    self.side1 = side1\n",
        "    self.side2 = side2\n",
        "\n",
        "  def get_area(self):\n",
        "    return self.side1 * self.side2\n",
        "\n",
        "  def get_perimeter(self):\n",
        "    return (2 * self.side1) + (2 * self.side2)\n",
        "\n",
        "class Square(Rectangle):\n",
        "\n",
        "  def __init__(self, side):\n",
        "    super().__init__(side, side)\n",
        "\n",
        "myRect = Rectangle(3,2)\n",
        "mySquare = Square(5)\n",
        "print(myRect.get_area())\n",
        "print(myRect.get_perimeter())\n",
        "print(mySquare.get_area())\n",
        "print(mySquare.get_perimeter())"
      ],
      "execution_count": null,
      "outputs": [
        {
          "output_type": "stream",
          "name": "stdout",
          "text": [
            "6\n",
            "10\n",
            "25\n",
            "20\n"
          ]
        }
      ]
    }
  ]
}