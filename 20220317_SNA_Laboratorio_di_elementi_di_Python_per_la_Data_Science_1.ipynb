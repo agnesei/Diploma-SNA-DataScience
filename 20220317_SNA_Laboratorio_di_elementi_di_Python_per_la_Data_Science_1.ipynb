{
  "nbformat": 4,
  "nbformat_minor": 0,
  "metadata": {
    "colab": {
      "name": "Copia di 20220317 - SNA - Laboratorio di elementi di Python per la Data Science - 1.ipynb",
      "provenance": [],
      "collapsed_sections": [
        "72o6OtY8l5FP",
        "m7TIHfMrnaZb",
        "clHQ0xIrncWl",
        "Eg0Vjt8ni63g",
        "OifQv5YTnwWS",
        "L79j1jF0oQLR",
        "DOm5yXMso5PG",
        "U2FqXMO0pGWt",
        "ax8Sm0hNqa4N",
        "s30kDWjNpzkz",
        "cbDYh_TXpJhK",
        "knghsT2ThEuq",
        "6_Mcj6yIq6fC",
        "D9AD8bl1rRYl",
        "DLreRySUriIb",
        "5FuEhW8JskmQ",
        "vMC32-5rs5NF",
        "5gUgn4UEtblN"
      ],
      "include_colab_link": true
    },
    "kernelspec": {
      "name": "python3",
      "display_name": "Python 3"
    },
    "language_info": {
      "name": "python"
    }
  },
  "cells": [
    {
      "cell_type": "markdown",
      "metadata": {
        "id": "view-in-github",
        "colab_type": "text"
      },
      "source": [
        "<a href=\"https://colab.research.google.com/github/agnesei/Diploma-SNA-DataScience/blob/main/20220317_SNA_Laboratorio_di_elementi_di_Python_per_la_Data_Science_1.ipynb\" target=\"_parent\"><img src=\"https://colab.research.google.com/assets/colab-badge.svg\" alt=\"Open In Colab\"/></a>"
      ]
    },
    {
      "cell_type": "markdown",
      "metadata": {
        "id": "w6mn8-NBl2Zx"
      },
      "source": [
        "# Le basi di Python\n",
        "\n",
        "Materiale per il webinar \"Le basi di Python\" della Dataninja School: [school.dataninja.it/courses/le-basi-di-python-in-2-ore](https://school.dataninja.it/courses/le-basi-di-python-in-2-ore).\n",
        "\n",
        "> Python identifica i blocchi di codice annidati mediante indentazione (tabulazioni `\t` e spazi `  `) e non usa invece delimitatori espliciti (es. parentesi graffe `{ ... }`).\n",
        "\n",
        "> Nella sua evoluzione Python è giunto alla versione v3, ma ancora ci sono molti vecchi programmi e script scritti in Python v2. Al momento la versione più recente è la v3.10.\n",
        "\n",
        "> Manuale di stile ufficiale: [python.org/dev/peps/pep-0008](https://www.python.org/dev/peps/pep-0008/)."
      ]
    },
    {
      "cell_type": "markdown",
      "metadata": {
        "id": "FMxcwEKHXI5b"
      },
      "source": [
        "## Contenuti\n",
        "- Tipi di dato\n",
        "  - Stringa\n",
        "  - Numero intero\n",
        "  - Numero in virgola mobile\n",
        "  - Valore di verità\n",
        "  - Dato mancante\n",
        "- Strutture dati\n",
        "  - Lista\n",
        "  - Tupla\n",
        "  - Insieme\n",
        "  - Dizionario\n",
        "- Variabili\n",
        "  - Dichiarazione e assegnazione\n",
        "  - Accesso\n",
        "  - Operazioni\n",
        "  - Aggiornamento\n",
        "  - Parsing e casting\n",
        "- Controllo del flusso\n",
        "  - Funzione\n",
        "  - Ciclo\n",
        "  - Condizione\n",
        "  - List comprehension\n",
        "  - Dict comprehension\n",
        "- Librerie\n"
      ]
    },
    {
      "cell_type": "markdown",
      "metadata": {
        "id": "72o6OtY8l5FP"
      },
      "source": [
        "## Tipi di dato"
      ]
    },
    {
      "cell_type": "markdown",
      "metadata": {
        "id": "RhXYkMs_mX9Q"
      },
      "source": [
        "### Stringa (*string* o  *str*)\n",
        "\n",
        "Una stringa è una sequenza di caratteri, iterabile, rappresentabili secondo una codifica data, solitamente `UTF-8`. In Python si delimita con le virgolette singole (`'`) o le doppie virgolette (`\"`). La codifica predefinita è `UTF-8` (v3). Per approfondire: [it.wikipedia.org/wiki/Codifica_di_caratteri](https://it.wikipedia.org/wiki/Codifica_di_caratteri)."
      ]
    },
    {
      "cell_type": "code",
      "metadata": {
        "colab": {
          "base_uri": "https://localhost:8080/",
          "height": 35
        },
        "id": "JcAnj2kKlTZ1",
        "outputId": "8795d20b-e1cf-41a9-82d4-586d9b2a4d0f"
      },
      "source": [
        "\"questa è una stringa\""
      ],
      "execution_count": null,
      "outputs": [
        {
          "output_type": "execute_result",
          "data": {
            "application/vnd.google.colaboratory.intrinsic+json": {
              "type": "string"
            },
            "text/plain": [
              "\"questa è un'altra stringa\""
            ]
          },
          "metadata": {},
          "execution_count": 3
        }
      ]
    },
    {
      "cell_type": "markdown",
      "metadata": {
        "id": "V8cQ7V7nmeAu"
      },
      "source": [
        "### Numero intero (*integer* o *int*)\n",
        "\n",
        "Un numero intero, positivo o negativo, incluso lo zero. Per favorire la leggibilità si può scrivere usando il trattino basso (`_`) come separatore delle migliaia (>=v3.6). Per approfondire: [it.wikipedia.org/wiki/Numero_intero_(informatica)](https://it.wikipedia.org/wiki/Numero_intero_(informatica))."
      ]
    },
    {
      "cell_type": "code",
      "metadata": {
        "colab": {
          "base_uri": "https://localhost:8080/"
        },
        "id": "5hELQSeNmnIo",
        "outputId": "9437b186-00b3-4250-85e4-50679c2896e6"
      },
      "source": [
        "123_764_726_472_642"
      ],
      "execution_count": null,
      "outputs": [
        {
          "output_type": "execute_result",
          "data": {
            "text/plain": [
              "123"
            ]
          },
          "metadata": {},
          "execution_count": 4
        }
      ]
    },
    {
      "cell_type": "markdown",
      "metadata": {
        "id": "qM6vnQ_gmz0o"
      },
      "source": [
        "### Numero in virgola mobile (*floating point* o *float*)\n",
        "\n",
        "Un numero razionale, positivo o negativo, incluso lo zero. Si usa la notazione anglosassone che prevede il punto (`.`) come separatore dei decimali. Per favorire la leggibilità si può scrivere usando il trattino basso (`_`) come separatore delle migliaia (>=v3.6). Per approfondire: [it.wikipedia.org/wiki/Numero_in_virgola_mobile](https://it.wikipedia.org/wiki/Numero_in_virgola_mobile)."
      ]
    },
    {
      "cell_type": "code",
      "metadata": {
        "colab": {
          "base_uri": "https://localhost:8080/"
        },
        "id": "YFMwmOnHm45Q",
        "outputId": "9c2cecff-d269-45b5-8984-49a5096e6a6e"
      },
      "source": [
        "123_764.72"
      ],
      "execution_count": null,
      "outputs": [
        {
          "output_type": "execute_result",
          "data": {
            "text/plain": [
              "123764.72"
            ]
          },
          "metadata": {},
          "execution_count": 5
        }
      ]
    },
    {
      "cell_type": "markdown",
      "metadata": {
        "id": "YsHSBj64m729"
      },
      "source": [
        "### Valore di verità (*boolean*)\n",
        "\n",
        "Sono ammessi solo due valori booleani: `True` e `False` (vero e falso), scritti in inglese con l'iniziale maiuscola. Per approfondire: [it.wikipedia.org/wiki/Variabile_booleana](https://it.wikipedia.org/wiki/Variabile_booleana)."
      ]
    },
    {
      "cell_type": "code",
      "metadata": {
        "colab": {
          "base_uri": "https://localhost:8080/"
        },
        "id": "U98--OXcnHQt",
        "outputId": "0529c930-1ea5-4838-b4e8-abea2bcc48f8"
      },
      "source": [
        "True"
      ],
      "execution_count": null,
      "outputs": [
        {
          "output_type": "execute_result",
          "data": {
            "text/plain": [
              "True"
            ]
          },
          "metadata": {},
          "execution_count": 6
        }
      ]
    },
    {
      "cell_type": "code",
      "metadata": {
        "colab": {
          "base_uri": "https://localhost:8080/"
        },
        "id": "sajNLC8ieYdx",
        "outputId": "72441363-57bf-49f8-8d88-d57a71d64c1d"
      },
      "source": [
        "False"
      ],
      "execution_count": null,
      "outputs": [
        {
          "output_type": "execute_result",
          "data": {
            "text/plain": [
              "False"
            ]
          },
          "metadata": {},
          "execution_count": 7
        }
      ]
    },
    {
      "cell_type": "markdown",
      "metadata": {
        "id": "ElvSO0GknP8u"
      },
      "source": [
        "### Dato mancante\n",
        "\n",
        "Si può rappresentare il concetto di *nessun dato* con il tipo `None`."
      ]
    },
    {
      "cell_type": "code",
      "metadata": {
        "id": "DOOii71anSjV"
      },
      "source": [
        "None"
      ],
      "execution_count": null,
      "outputs": []
    },
    {
      "cell_type": "markdown",
      "metadata": {
        "id": "m7TIHfMrnaZb"
      },
      "source": [
        "## Strutture dati"
      ]
    },
    {
      "cell_type": "markdown",
      "metadata": {
        "id": "clHQ0xIrncWl"
      },
      "source": [
        "### Lista (*list*)\n",
        "\n",
        "Una collezione ordinata di dati, iterabile. Una volta definita, può essere modificata (es. si può aggiungere un elemento in coda). Una stessa lista può contenere tipi diversi di dati (es. numeri e stringhe). Si delimita con le parentesi quadre `[...]`, mentre gli elementi sono separati da una virgola `,`. Può essere scritta su più righe opportunamente indentate."
      ]
    },
    {
      "cell_type": "code",
      "metadata": {
        "id": "w8AbR5ehnn78",
        "colab": {
          "base_uri": "https://localhost:8080/"
        },
        "outputId": "02f8f5a3-ef1a-4b9c-d4d6-8833e86bd525"
      },
      "source": [
        "[1, 2, 3]"
      ],
      "execution_count": null,
      "outputs": [
        {
          "output_type": "execute_result",
          "data": {
            "text/plain": [
              "[1, 2, 3]"
            ]
          },
          "metadata": {},
          "execution_count": 9
        }
      ]
    },
    {
      "cell_type": "code",
      "metadata": {
        "id": "cSlitKaTnrRl",
        "colab": {
          "base_uri": "https://localhost:8080/"
        },
        "outputId": "9e12a7eb-f3d6-409e-8e7a-b5fa63d0c0bf"
      },
      "source": [
        "[\n",
        "    \"uno\",\n",
        "    2,\n",
        "    False\n",
        "]"
      ],
      "execution_count": null,
      "outputs": [
        {
          "output_type": "execute_result",
          "data": {
            "text/plain": [
              "['uno', 2, False]"
            ]
          },
          "metadata": {},
          "execution_count": 10
        }
      ]
    },
    {
      "cell_type": "markdown",
      "metadata": {
        "id": "Eg0Vjt8ni63g"
      },
      "source": [
        "### Tupla (*tuple*)\n",
        "\n",
        "Una collezione ordinata di dati, iterabile. Una volta definita, non può essere modificata. Una stessa tupla può contenere tipi diversi di dati (es. numeri e stringhe). Si delimita con le parentesi tonde `(...)`, mentre gli elementi sono separati da una virgola `,`. Può essere scritta su più righe opportunamente indentate."
      ]
    },
    {
      "cell_type": "code",
      "metadata": {
        "colab": {
          "base_uri": "https://localhost:8080/"
        },
        "id": "HVXD0u6fiz0y",
        "outputId": "46ddaae8-ef8b-42f4-c225-732d8097b038"
      },
      "source": [
        "(1, 2, 3)"
      ],
      "execution_count": null,
      "outputs": [
        {
          "output_type": "execute_result",
          "data": {
            "text/plain": [
              "(1, 2, 3)"
            ]
          },
          "metadata": {},
          "execution_count": 11
        }
      ]
    },
    {
      "cell_type": "code",
      "metadata": {
        "colab": {
          "base_uri": "https://localhost:8080/"
        },
        "id": "d4Y6X7Sci3As",
        "outputId": "6ae23396-7e27-4ce3-d44b-d16a98d5be54"
      },
      "source": [
        "(\n",
        "    \"uno\",\n",
        "    2,\n",
        "    False\n",
        ")"
      ],
      "execution_count": null,
      "outputs": [
        {
          "output_type": "execute_result",
          "data": {
            "text/plain": [
              "('uno', 2, False)"
            ]
          },
          "metadata": {},
          "execution_count": 10
        }
      ]
    },
    {
      "cell_type": "markdown",
      "metadata": {
        "id": "OifQv5YTnwWS"
      },
      "source": [
        "### Insieme (*set*)\n",
        "\n",
        "Una collezione non ordinata di dati, iterabile, i cui valori sono unici, possono comparire solo una volta. Dopo essere stato definito, può essere modificato. Uno stesso set può contenere tipi diversi di dati (es. numeri e stringhe) purché *hashable* (rappresentabili da stringhe). Si delimita con le parentesi graffe `{...}`, mentre gli elementi sono separati da una virgola `,`. Può essere scritta su più righe opportunamente indentate."
      ]
    },
    {
      "cell_type": "code",
      "metadata": {
        "colab": {
          "base_uri": "https://localhost:8080/"
        },
        "id": "coKvRH2znzgw",
        "outputId": "82307bd7-f2ba-4e14-c8b2-b0a6cc76d640"
      },
      "source": [
        "{1, 2, 2, 3}"
      ],
      "execution_count": null,
      "outputs": [
        {
          "output_type": "execute_result",
          "data": {
            "text/plain": [
              "{1, 2, 3}"
            ]
          },
          "metadata": {},
          "execution_count": 12
        }
      ]
    },
    {
      "cell_type": "code",
      "metadata": {
        "colab": {
          "base_uri": "https://localhost:8080/"
        },
        "id": "ixeKxQfgaJHo",
        "outputId": "a9ae983c-4712-455b-d064-f21297aabc32"
      },
      "source": [
        "{\n",
        "    \"uno\",\n",
        "    2,\n",
        "    False,\n",
        "    False\n",
        "}"
      ],
      "execution_count": null,
      "outputs": [
        {
          "output_type": "execute_result",
          "data": {
            "text/plain": [
              "{2, False, 'uno'}"
            ]
          },
          "metadata": {},
          "execution_count": 12
        }
      ]
    },
    {
      "cell_type": "markdown",
      "metadata": {
        "id": "L79j1jF0oQLR"
      },
      "source": [
        "### Dizionario (*dict*)\n",
        "\n",
        "Una collezione non ordinata di *coppie chiave / valore*. Una volta definito, può essere modificato (es. si può aggiungere una nuova chiave con il suo valore). Uno stesso dizionario può contenere tipi diversi di dati (es. numeri e stringhe) come valori, ma solo elementi *hashable* (rappresentabili da stringhe) come chiavi. Si delimita con le parentesi graffe `{...}`, le coppie sono separate da una virgola `,` e la chiave dal valore dai due punti `:`. Può essere scritta su più righe opportunamente indentate."
      ]
    },
    {
      "cell_type": "code",
      "metadata": {
        "colab": {
          "base_uri": "https://localhost:8080/"
        },
        "id": "Ey-8vuJLodGZ",
        "outputId": "4b6ed794-6eaa-4f49-8829-b7820f0d84de"
      },
      "source": [
        "{\n",
        "    \"nome\": \"Alessio\",\n",
        "    \"anno\": 1983\n",
        "}"
      ],
      "execution_count": null,
      "outputs": [
        {
          "output_type": "execute_result",
          "data": {
            "text/plain": [
              "{'anno': 1983, 'nome': 'Alessio'}"
            ]
          },
          "metadata": {},
          "execution_count": 14
        }
      ]
    },
    {
      "cell_type": "markdown",
      "metadata": {
        "id": "DOm5yXMso5PG"
      },
      "source": [
        "## Variabili"
      ]
    },
    {
      "cell_type": "markdown",
      "metadata": {
        "id": "U2FqXMO0pGWt"
      },
      "source": [
        "### Dichiarazione e assegnazione\n",
        "\n",
        "Una variabile è composta di due parti: il nome e il valore. Ci sono delle restrizioni nei nomi utilizzabili per le variabili (es. non possono contenere spazi).\n",
        "\n",
        "Il primo uso di una variabile ne implica la dichiarazione. Per assegnarle un valore si usa l'uguale `=`: a sinistra la variabile, a destra il nuovo valore. Assegnazioni successive cancellano i valori precedenti."
      ]
    },
    {
      "cell_type": "code",
      "metadata": {
        "id": "71PfEFvwo7s2"
      },
      "source": [
        "my_name = \"Alessio\""
      ],
      "execution_count": null,
      "outputs": []
    },
    {
      "cell_type": "code",
      "metadata": {
        "colab": {
          "base_uri": "https://localhost:8080/",
          "height": 35
        },
        "id": "Jl54YnfvpA5M",
        "outputId": "b948e5fa-b9fa-4882-dfbb-30695567c869"
      },
      "source": [
        "my_name"
      ],
      "execution_count": null,
      "outputs": [
        {
          "output_type": "execute_result",
          "data": {
            "application/vnd.google.colaboratory.intrinsic+json": {
              "type": "string"
            },
            "text/plain": [
              "'Alessio'"
            ]
          },
          "metadata": {},
          "execution_count": 18
        }
      ]
    },
    {
      "cell_type": "markdown",
      "metadata": {
        "id": "ax8Sm0hNqa4N"
      },
      "source": [
        "### Accesso\n",
        "\n",
        "Quando una variabile dichiarata e con un valore assegnato viene nominata, verrà sostituita dal suo valore corrispondente durante l'esecuzione.\n",
        "\n",
        "Per accedere ai singoli elementi di una struttura dati (escluso il set) o ai caratteri di una stringa si usano le parentesi quadre `[...]` per delimitare l'indice di riferimento. Per un iterabile l'indice parte da `0` (primo elemento) oppure è una chiave per un dizionario.\n",
        "\n",
        "Mediante lo *slicing* è possibile anche accedere a un sottoinsieme degli elementi di un iterabile (tranne il set)."
      ]
    },
    {
      "cell_type": "code",
      "metadata": {
        "colab": {
          "base_uri": "https://localhost:8080/"
        },
        "id": "YjSOGn-7qdLf",
        "outputId": "77794b92-da0e-4b47-fc67-924e15759b56"
      },
      "source": [
        "my_list = [1, 2, 3, 4]\n",
        "my_list[2]"
      ],
      "execution_count": null,
      "outputs": [
        {
          "output_type": "execute_result",
          "data": {
            "text/plain": [
              "3"
            ]
          },
          "metadata": {},
          "execution_count": 22
        }
      ]
    },
    {
      "cell_type": "code",
      "metadata": {
        "colab": {
          "base_uri": "https://localhost:8080/"
        },
        "id": "GoddWqJUfP45",
        "outputId": "04326b60-e5cb-4c2c-8f4a-2768f5f332a5"
      },
      "source": [
        "my_list[1:3]"
      ],
      "execution_count": null,
      "outputs": [
        {
          "output_type": "execute_result",
          "data": {
            "text/plain": [
              "[2, 3]"
            ]
          },
          "metadata": {},
          "execution_count": 23
        }
      ]
    },
    {
      "cell_type": "code",
      "metadata": {
        "colab": {
          "base_uri": "https://localhost:8080/"
        },
        "id": "lfAzoLWHeigS",
        "outputId": "5791e5e4-15a6-4af0-8b57-623b58ac873a"
      },
      "source": [
        "my_tuple = (1, 2, 3)\n",
        "my_tuple[1]"
      ],
      "execution_count": null,
      "outputs": [
        {
          "output_type": "execute_result",
          "data": {
            "text/plain": [
              "2"
            ]
          },
          "metadata": {},
          "execution_count": 17
        }
      ]
    },
    {
      "cell_type": "code",
      "metadata": {
        "colab": {
          "base_uri": "https://localhost:8080/",
          "height": 35
        },
        "id": "Sl-4oUf1qgVg",
        "outputId": "e13ac728-739e-4372-d89a-57a582e31b78"
      },
      "source": [
        "my_string = \"Alessio\"\n",
        "my_string[2]"
      ],
      "execution_count": null,
      "outputs": [
        {
          "output_type": "execute_result",
          "data": {
            "application/vnd.google.colaboratory.intrinsic+json": {
              "type": "string"
            },
            "text/plain": [
              "'e'"
            ]
          },
          "metadata": {},
          "execution_count": 18
        }
      ]
    },
    {
      "cell_type": "code",
      "metadata": {
        "colab": {
          "base_uri": "https://localhost:8080/"
        },
        "id": "52pJJJwUqu5f",
        "outputId": "7dd9f421-6644-4f04-a952-f9f80864b23b"
      },
      "source": [
        "my_dict = { \"nome\": \"Alessio\", \"anno\": 1983 }\n",
        "my_dict[\"anno\"]"
      ],
      "execution_count": null,
      "outputs": [
        {
          "output_type": "execute_result",
          "data": {
            "text/plain": [
              "1983"
            ]
          },
          "metadata": {},
          "execution_count": 25
        }
      ]
    },
    {
      "cell_type": "markdown",
      "metadata": {
        "id": "s30kDWjNpzkz"
      },
      "source": [
        "### Operazioni\n",
        "\n",
        "Si posso applicare operazioni di base ai valori delle variabili mediante operatori predefiniti che hanno un significato e un effetto in base al contesto, al tipo di variabile su cui agiscono.\n",
        "\n",
        "Per esempio la somma `+` effettua una somma sui numeri, ma una concatenazione sulle stringhe e le liste.\n",
        "\n",
        "Per quanto riguarda le operazioni aritmetiche:\n",
        "- `+` somma\n",
        "- `-` differenza\n",
        "- `*` moltiplicazione\n",
        "- `/` divisione\n",
        "- `**` elevazione a potenza\n",
        "- `//` parte intera della divisione\n",
        "- `%` resto intero della divisione\n",
        "\n",
        "Per quanto riguarda i confronti logici:\n",
        "- `==` uguale\n",
        "- `>` maggiore\n",
        "- `>=` maggiore uguale\n",
        "- `<` minore\n",
        "- `=<` minore uguale\n",
        "- `!=` diverso\n",
        "- `in` è contenuto in\n",
        "- `is` sono lo stesso oggetto\n",
        "\n",
        "E i connettori logici:\n",
        "- `not` NOT\n",
        "- `and` AND\n",
        "- `or` OR\n",
        "- `^` XOR"
      ]
    },
    {
      "cell_type": "code",
      "metadata": {
        "colab": {
          "base_uri": "https://localhost:8080/"
        },
        "id": "b38YktkFqAfV",
        "outputId": "98f5e6f3-9cbe-4d40-acbb-6cd94f08f684"
      },
      "source": [
        "oranges = 8\n",
        "apples = 4\n",
        "\n",
        "fruits = oranges + apples\n",
        "\n",
        "fruits"
      ],
      "execution_count": null,
      "outputs": [
        {
          "output_type": "execute_result",
          "data": {
            "text/plain": [
              "12"
            ]
          },
          "metadata": {},
          "execution_count": 4
        }
      ]
    },
    {
      "cell_type": "code",
      "metadata": {
        "colab": {
          "base_uri": "https://localhost:8080/",
          "height": 35
        },
        "id": "DAKCGuZpp0-p",
        "outputId": "773d699f-c663-4a95-c401-151bf017cf02"
      },
      "source": [
        "first_name = \"Caterina\"\n",
        "second_name = \"Guzzanti\"\n",
        "full_name = first_name + \" \" + second_name\n",
        "full_name"
      ],
      "execution_count": null,
      "outputs": [
        {
          "output_type": "execute_result",
          "data": {
            "text/plain": [
              "'Caterina Guzzanti'"
            ],
            "application/vnd.google.colaboratory.intrinsic+json": {
              "type": "string"
            }
          },
          "metadata": {},
          "execution_count": 5
        }
      ]
    },
    {
      "cell_type": "code",
      "metadata": {
        "colab": {
          "base_uri": "https://localhost:8080/"
        },
        "id": "aU9Cyj-zhmnN",
        "outputId": "a6e2456e-c342-4141-9560-b7b5a9a0bb92"
      },
      "source": [
        "first_list = [1, 2, 3]\n",
        "second_list = [4, 5, 6]\n",
        "full_list = first_list + second_list\n",
        "full_list"
      ],
      "execution_count": null,
      "outputs": [
        {
          "output_type": "execute_result",
          "data": {
            "text/plain": [
              "[1, 2, 3, 4, 5, 6]"
            ]
          },
          "metadata": {},
          "execution_count": 6
        }
      ]
    },
    {
      "cell_type": "markdown",
      "metadata": {
        "id": "cbDYh_TXpJhK"
      },
      "source": [
        "### Aggiornamento\n",
        "\n",
        "Una struttura dati contenuta in una variabile può essere modificata senza essere sovrascritta. Per esempio liste e tuple hanno metodi per aggiungere un elemento in coda, toglierne uno dall'inizio, ecc.\n",
        "\n",
        "I metodi hanno nomi specifici (es. `append`), sono separati dalla variabile mediante un punto `.` e accettano argomenti tra parentesi tonde `(...)`.\n",
        "\n",
        "Gli operatori di base possono essere combinati con un'assegnazione per ottenere un aggiornamento del valore di una variabile:\n",
        "- `+=` somma\n",
        "- `-=` differenza\n",
        "- `*=` moltiplicazione\n",
        "- `/=` divisione\n",
        "- `**=` elevazione a potenza\n",
        "- `//=` parte intera della divisione\n",
        "- `%=` resto intero della divisione\n"
      ]
    },
    {
      "cell_type": "code",
      "metadata": {
        "colab": {
          "base_uri": "https://localhost:8080/"
        },
        "id": "vFfwmtWYpTPu",
        "outputId": "6eb902ac-b96d-4b85-a741-c9f1b08175bd"
      },
      "source": [
        "l = [1, 2, 3]\n",
        "l += [4]\n",
        "l.append(5)\n",
        "l"
      ],
      "execution_count": null,
      "outputs": [
        {
          "output_type": "execute_result",
          "data": {
            "text/plain": [
              "[1, 2, 3, 4, 5]"
            ]
          },
          "metadata": {},
          "execution_count": 18
        }
      ]
    },
    {
      "cell_type": "code",
      "metadata": {
        "colab": {
          "base_uri": "https://localhost:8080/",
          "height": 35
        },
        "id": "scHs51O7pass",
        "outputId": "1f5d6771-399a-4fea-fe6a-d4993856d9e2"
      },
      "source": [
        "s = \"Forza 4\"\n",
        "s += \"2\"\n",
        "s"
      ],
      "execution_count": null,
      "outputs": [
        {
          "output_type": "execute_result",
          "data": {
            "application/vnd.google.colaboratory.intrinsic+json": {
              "type": "string"
            },
            "text/plain": [
              "'Forza 42'"
            ]
          },
          "metadata": {},
          "execution_count": 15
        }
      ]
    },
    {
      "cell_type": "markdown",
      "metadata": {
        "id": "knghsT2ThEuq"
      },
      "source": [
        "### Da un tipo di dato a un altro: parsing e casting\n",
        "\n",
        "In alcuni casi è possibile passare da un tipo di dato a un altro.\n",
        "\n",
        "Per esempio se abbiamo una stringa composta da sole cifre, possiamo farla interpretare come numero intero. Questa operazione si chiama *parsing*.\n",
        "\n",
        "Possiamo anche forzare la conversione da un tipo a un altro, per esempio trasformare un numero decimale in un numero intero (perdendo l'informazione delle cifre decimali), oppure creare una lista da una tupla o un set. Questa operazione si chiama *casting*.\n",
        "\n",
        "Quando si effettua il casting con un valore booleano ci sono delle regole precise che indicano se un valore è *falsy* (valutato falso) o *truthy* (valutato vero)."
      ]
    },
    {
      "cell_type": "code",
      "metadata": {
        "colab": {
          "base_uri": "https://localhost:8080/"
        },
        "id": "JINr3W_ZhKIF",
        "outputId": "cf1a4193-b4d6-453d-f6ee-056a1f5999b1"
      },
      "source": [
        "# Parsing: from string to native type\n",
        "integer_as_string = \"42\"\n",
        "integer_as_integer = int(integer_as_string)\n",
        "integer_as_integer"
      ],
      "execution_count": null,
      "outputs": [
        {
          "output_type": "execute_result",
          "data": {
            "text/plain": [
              "42"
            ]
          },
          "metadata": {},
          "execution_count": 34
        }
      ]
    },
    {
      "cell_type": "code",
      "metadata": {
        "colab": {
          "base_uri": "https://localhost:8080/"
        },
        "id": "pPyeoVJ6hYmV",
        "outputId": "787d7c21-c2bf-4dbf-b3ea-d0fbbf877e58"
      },
      "source": [
        "# Casting: from type to type\n",
        "floating_number = 42.0001\n",
        "integer_number = int(floating_number)\n",
        "integer_number"
      ],
      "execution_count": null,
      "outputs": [
        {
          "output_type": "execute_result",
          "data": {
            "text/plain": [
              "42"
            ]
          },
          "metadata": {},
          "execution_count": 14
        }
      ]
    },
    {
      "cell_type": "code",
      "metadata": {
        "colab": {
          "base_uri": "https://localhost:8080/"
        },
        "id": "Gws3vZRLhYNx",
        "outputId": "26901ca0-5279-4f4e-fa7c-588066522317"
      },
      "source": [
        "# *Truthy* and *Falsy* values\n",
        "falsy_values = [\"\", 0, False, [], (), {}, None, \"ciao\", 42]\n",
        "list(map(bool, falsy_values))"
      ],
      "execution_count": null,
      "outputs": [
        {
          "output_type": "execute_result",
          "data": {
            "text/plain": [
              "[False, False, False, False, False, False, False, True, True]"
            ]
          },
          "metadata": {},
          "execution_count": 37
        }
      ]
    },
    {
      "cell_type": "markdown",
      "metadata": {
        "id": "6_Mcj6yIq6fC"
      },
      "source": [
        "## Controllo del flusso"
      ]
    },
    {
      "cell_type": "markdown",
      "metadata": {
        "id": "D9AD8bl1rRYl"
      },
      "source": [
        "### Funzione (*function*)\n",
        "\n",
        "Una funzione è come una variabile che contiene istruzioni eseguibili. Può avere un nome e contiene un blocco di codice che viene eseguito quando nominata. Può accettare dei valori in input come argomenti e ritornare valori in output.\n",
        "\n",
        "Alcune funzioni sono già definite nella libreria standard del linguaggio ([built-in functions](https://docs.python.org/3/library/functions.html)), altre possono essere definite a nostro piacimento.\n",
        "\n",
        "Tutti i tipi di dato hanno una serie di metodi utili che non sono altro che funzioni, accessibili con la *dot notation* (es. `list.append(element)`)."
      ]
    },
    {
      "cell_type": "markdown",
      "metadata": {
        "id": "viX3mr5QfKcW"
      },
      "source": [
        "Definizione ed esecuzione di una funzione denominata (*named function*)."
      ]
    },
    {
      "cell_type": "code",
      "metadata": {
        "id": "n_m5Xh4xq8KB"
      },
      "source": [
        "# Custom definition of a named function\n",
        "def sum_two_fruits(fruit1, fruit2):\n",
        "    return fruit1 + fruit2"
      ],
      "execution_count": null,
      "outputs": []
    },
    {
      "cell_type": "code",
      "source": [
        "sum_two_fruits(1, 10)"
      ],
      "metadata": {
        "colab": {
          "base_uri": "https://localhost:8080/"
        },
        "id": "mG4nQh72H-Qx",
        "outputId": "0370c70a-6b4c-42f4-9adf-194939198c65"
      },
      "execution_count": null,
      "outputs": [
        {
          "output_type": "execute_result",
          "data": {
            "text/plain": [
              "11"
            ]
          },
          "metadata": {},
          "execution_count": 46
        }
      ]
    },
    {
      "cell_type": "code",
      "metadata": {
        "colab": {
          "base_uri": "https://localhost:8080/"
        },
        "id": "JrpTS0qUrUxG",
        "outputId": "e513b362-78c5-47aa-ece0-d8adc2b716d7"
      },
      "source": [
        "# `sum` is a built-in function, takes an iterable and sums all elements\n",
        "items = [1,2,3,2,1,3,4,5,6,7]\n",
        "how_many_items = sum(items)\n",
        "how_many_items"
      ],
      "execution_count": null,
      "outputs": [
        {
          "output_type": "execute_result",
          "data": {
            "text/plain": [
              "34"
            ]
          },
          "metadata": {},
          "execution_count": 47
        }
      ]
    },
    {
      "cell_type": "code",
      "metadata": {
        "colab": {
          "base_uri": "https://localhost:8080/"
        },
        "id": "RR7FrwiQr5mv",
        "outputId": "5be2cdcf-da86-4de3-9d16-1fe44890e12f"
      },
      "source": [
        "# `print` is a built-in function, takes a variable and prints out its value\n",
        "full_name = \"Alessio Cimarelli\"\n",
        "print(full_name)"
      ],
      "execution_count": null,
      "outputs": [
        {
          "output_type": "stream",
          "name": "stdout",
          "text": [
            "Alessio Cimarelli\n"
          ]
        }
      ]
    },
    {
      "cell_type": "markdown",
      "metadata": {
        "id": "2Se117m8fJPf"
      },
      "source": [
        "Definizione ed esecuzione di una funzione anonima (*lambda*)."
      ]
    },
    {
      "cell_type": "code",
      "metadata": {
        "colab": {
          "base_uri": "https://localhost:8080/"
        },
        "id": "LqM7wV03fkS_",
        "outputId": "c5bc1159-63a2-4c61-9214-178bcefbb075"
      },
      "source": [
        "#def double(n):\n",
        "#  return n * 2\n",
        "\n",
        "items = [1,2,3,2,1]\n",
        "#doubled_items = map(double, items)\n",
        "doubled_items = map(lambda n: n * 2, items)\n",
        "list(doubled_items)\n",
        "# `map` is a built-int function, takes a function and an iterable and applies the function to all elements of the iterable"
      ],
      "execution_count": null,
      "outputs": [
        {
          "output_type": "execute_result",
          "data": {
            "text/plain": [
              "[2, 4, 6, 4, 2]"
            ]
          },
          "metadata": {},
          "execution_count": 23
        }
      ]
    },
    {
      "cell_type": "markdown",
      "metadata": {
        "id": "DLreRySUriIb"
      },
      "source": [
        "### Ciclo (*loop*)\n",
        "\n",
        "Un ciclo permette di eseguire più volte lo stesso blocco di codice. Per esempio per ogni elemento di un iterabile o per un numero fisso di volte."
      ]
    },
    {
      "cell_type": "code",
      "metadata": {
        "colab": {
          "base_uri": "https://localhost:8080/"
        },
        "id": "WY1cZt2HrvaV",
        "outputId": "9c1139ec-cbfc-4d8f-91d6-bdf5b1e9b151"
      },
      "source": [
        "items = [1, 2, 3, 4]\n",
        "for item in items:\n",
        "    print(item)"
      ],
      "execution_count": null,
      "outputs": [
        {
          "output_type": "stream",
          "name": "stdout",
          "text": [
            "1\n",
            "2\n",
            "3\n",
            "4\n"
          ]
        }
      ]
    },
    {
      "cell_type": "code",
      "metadata": {
        "colab": {
          "base_uri": "https://localhost:8080/"
        },
        "id": "xwpt0LxnsFjZ",
        "outputId": "577623ab-5a28-4044-cc08-03be39e94f4d"
      },
      "source": [
        "items = [1,2,3,2,1]\n",
        "how_many_items = 0\n",
        "\n",
        "for item in items:\n",
        "    how_many_items += item\n",
        "\n",
        "how_many_items"
      ],
      "execution_count": null,
      "outputs": [
        {
          "output_type": "execute_result",
          "data": {
            "text/plain": [
              "9"
            ]
          },
          "metadata": {},
          "execution_count": 30
        }
      ]
    },
    {
      "cell_type": "code",
      "metadata": {
        "colab": {
          "base_uri": "https://localhost:8080/"
        },
        "id": "ffjJWdC5sUWT",
        "outputId": "d0115701-d5e9-40fc-9ee6-f8b63ca7d1bb"
      },
      "source": [
        "items = [1,2,3,2,1]\n",
        "doubled_items = []\n",
        "\n",
        "for item in items:\n",
        "    doubled_items.append(item * 2)\n",
        "\n",
        "doubled_items"
      ],
      "execution_count": null,
      "outputs": [
        {
          "output_type": "execute_result",
          "data": {
            "text/plain": [
              "[2, 4, 6, 4, 2]"
            ]
          },
          "metadata": {},
          "execution_count": 32
        }
      ]
    },
    {
      "cell_type": "code",
      "metadata": {
        "colab": {
          "base_uri": "https://localhost:8080/"
        },
        "id": "U-ZwTAhjmjdY",
        "outputId": "d6b1146e-5bcc-465a-b9cc-7eed885ae01f"
      },
      "source": [
        "my_dict = { \"nome\": \"Alessio\", \"anno\": 1983 }\n",
        "for key in my_dict:\n",
        "    print(key, \":\", my_dict[key])"
      ],
      "execution_count": null,
      "outputs": [
        {
          "output_type": "stream",
          "name": "stdout",
          "text": [
            "nome : Alessio\n",
            "anno : 1983\n"
          ]
        }
      ]
    },
    {
      "cell_type": "markdown",
      "metadata": {
        "id": "5gUgn4UEtblN"
      },
      "source": [
        "### Condizione (*if*)\n",
        "\n",
        "Il costrutto *if* permette di eseguire un blocco di istruzioni in base al verificarsi di una condizione. Può far parte di un ciclo o della definizione di una funzione.\n",
        "\n",
        "Python permette di definire un blocco *if* anche in linea."
      ]
    },
    {
      "cell_type": "code",
      "metadata": {
        "colab": {
          "base_uri": "https://localhost:8080/"
        },
        "id": "3Cruo7VHteCd",
        "outputId": "6ced6f41-2fc6-4be2-9aab-2d2e0c59ea68"
      },
      "source": [
        "item1 = 34\n",
        "item2 = 2\n",
        "threshold = 5\n",
        "\n",
        "print(item1 > threshold)\n",
        "if item1 > threshold:\n",
        "    print(item1)\n",
        "else:\n",
        "    print(\"-\")\n",
        "\n",
        "print(item2 > threshold)\n",
        "if item2 > threshold:\n",
        "    print(item2)\n",
        "else:\n",
        "    print(\"-\")\n"
      ],
      "execution_count": null,
      "outputs": [
        {
          "output_type": "stream",
          "name": "stdout",
          "text": [
            "True\n",
            "34\n",
            "False\n",
            "-\n"
          ]
        }
      ]
    },
    {
      "cell_type": "code",
      "metadata": {
        "colab": {
          "base_uri": "https://localhost:8080/"
        },
        "id": "TvoECiAWqAoo",
        "outputId": "cd46dac7-126f-4cc7-9576-12e6a06b5f35"
      },
      "source": [
        "print(\n",
        "    item2\n",
        "    if item2 > threshold\n",
        "    else \"-\"\n",
        ")"
      ],
      "execution_count": null,
      "outputs": [
        {
          "output_type": "stream",
          "name": "stdout",
          "text": [
            "-\n"
          ]
        }
      ]
    },
    {
      "cell_type": "markdown",
      "metadata": {
        "id": "5FuEhW8JskmQ"
      },
      "source": [
        "### List comprehension\n",
        "\n",
        "Python ha un meccanismo peculiare e molto versatile per costruire iterabili a partire da un ciclo ed eventualmente da una condizione."
      ]
    },
    {
      "cell_type": "code",
      "metadata": {
        "colab": {
          "base_uri": "https://localhost:8080/"
        },
        "id": "8zUaC_R-smpS",
        "outputId": "d84310a2-c9d8-415e-f9ff-3c675893a1b7"
      },
      "source": [
        "items = [1,2,3,2,1]\n",
        "#doubled_items = map(lambda n: n * 2, items)\n",
        "doubled_items = [item * 2 for item in items if item > 1]\n",
        "doubled_items"
      ],
      "execution_count": null,
      "outputs": [
        {
          "output_type": "execute_result",
          "data": {
            "text/plain": [
              "[4, 6, 4]"
            ]
          },
          "metadata": {},
          "execution_count": 64
        }
      ]
    },
    {
      "cell_type": "markdown",
      "metadata": {
        "id": "vMC32-5rs5NF"
      },
      "source": [
        "### Dict comprehension\n",
        "\n",
        "Lo stesso meccanismo funziona anche per i dizionari."
      ]
    },
    {
      "cell_type": "code",
      "metadata": {
        "colab": {
          "base_uri": "https://localhost:8080/"
        },
        "id": "JnXxx4VFtAZ5",
        "outputId": "acd3668d-2d4d-41a2-df90-cf8578f70828"
      },
      "source": [
        "items = [ \"first_name:Alessio\", \"second_name:Cimarelli\", \"city:Padua\" ]\n",
        "items_as_dict = {\n",
        "    item.split(\":\")[0]: item.split(\":\")[1]\n",
        "    for item in items\n",
        "    if \"_name\" in item\n",
        "}\n",
        "items_as_dict"
      ],
      "execution_count": null,
      "outputs": [
        {
          "output_type": "execute_result",
          "data": {
            "text/plain": [
              "{'first_name': 'Alessio', 'second_name': 'Cimarelli'}"
            ]
          },
          "metadata": {},
          "execution_count": 67
        }
      ]
    },
    {
      "cell_type": "markdown",
      "metadata": {
        "id": "C81ms4zlryK9"
      },
      "source": [
        "## Librerie\n",
        "\n",
        "Normalmente il codice sorgente di un programma è scritto e salvato in un file di testo. Python mette a disposizione un meccanismo per importare porzioni di codice da file esterni. Così è possibile scrivere codice, condividerlo con licenza open source e riutilizzarlo liberamente.\n",
        "\n",
        "Qualunque codice scritto e distribuito appositamente per essere importato in altri programmi e non eseguito direttamente prende il nome di *libreria*. La [libreria standard di Python](https://docs.python.org/3/library/) mette a disposizione moltissime utilità pronte per essere utilizzate.\n",
        "\n",
        "Il [Python Package Index (PyPI)](https://pypi.org/) è un archivio di pacchetti liberamente accessibili che possono essere scaricati, installati e importati come librerie aggiuntive. Lo strumento ufficiale per effetturare queste operazioni è [pip](https://pip.pypa.io/en/stable/)."
      ]
    },
    {
      "cell_type": "markdown",
      "metadata": {
        "id": "L-BP68VKuQST"
      },
      "source": [
        "### Math\n",
        "\n",
        "Utilità matematiche avanzate. Documentazione ufficiale: [docs.python.org/3/library/math.html](https://docs.python.org/3/library/math.html)."
      ]
    },
    {
      "cell_type": "code",
      "metadata": {
        "colab": {
          "base_uri": "https://localhost:8080/"
        },
        "id": "H451WuKRr3bs",
        "outputId": "f72f0160-7062-4d46-bd44-a24d37188e7a"
      },
      "source": [
        "import math\n",
        "print(math.exp(2))"
      ],
      "execution_count": null,
      "outputs": [
        {
          "output_type": "stream",
          "name": "stdout",
          "text": [
            "7.38905609893065\n"
          ]
        }
      ]
    },
    {
      "cell_type": "code",
      "metadata": {
        "colab": {
          "base_uri": "https://localhost:8080/"
        },
        "id": "DkRJ6w51sMjX",
        "outputId": "e2826676-3633-4f0c-dd56-5a15ffb1fc59"
      },
      "source": [
        "from math import exp\n",
        "print(exp(2))"
      ],
      "execution_count": null,
      "outputs": [
        {
          "output_type": "stream",
          "name": "stdout",
          "text": [
            "7.38905609893065\n"
          ]
        }
      ]
    },
    {
      "cell_type": "code",
      "metadata": {
        "colab": {
          "base_uri": "https://localhost:8080/"
        },
        "id": "3Vos_G53sSXl",
        "outputId": "d46fad3e-f00b-4667-9d12-a8803e799dd9"
      },
      "source": [
        "from math import exp as esponenziale\n",
        "print(esponenziale(2))"
      ],
      "execution_count": null,
      "outputs": [
        {
          "output_type": "stream",
          "name": "stdout",
          "text": [
            "7.38905609893065\n"
          ]
        }
      ]
    },
    {
      "cell_type": "markdown",
      "metadata": {
        "id": "141hFKP1uVPF"
      },
      "source": [
        "### Pandas\n",
        "\n",
        "Una delle librerie più usate per l'analisi dati in progetti di data science. Sito ufficiale: [pandas.pydata.org](https://pandas.pydata.org/)."
      ]
    },
    {
      "cell_type": "code",
      "metadata": {
        "id": "gbRU_rCSu0_r"
      },
      "source": [
        "# Import main library\n",
        "import pandas as pd\n",
        "# Just a workaround to globally set chart sizes\n",
        "import matplotlib.pyplot as plt\n",
        "plt.rcParams['figure.figsize'] = [35, 15]"
      ],
      "execution_count": null,
      "outputs": []
    },
    {
      "cell_type": "code",
      "metadata": {
        "colab": {
          "base_uri": "https://localhost:8080/",
          "height": 822
        },
        "id": "cpkwEjUHwSAH",
        "outputId": "b65444df-546e-47b7-cf8e-f334aa77ba1e"
      },
      "source": [
        "# Import data from official open data by Protezione Civile\n",
        "data = pd.read_csv(\n",
        "    \"https://github.com/pcm-dpc/COVID-19/raw/master/dati-andamento-nazionale/dpc-covid19-ita-andamento-nazionale.csv\",\n",
        "    index_col = \"data\",\n",
        "    parse_dates = True\n",
        ")\n",
        "\n",
        "# Data preview\n",
        "data"
      ],
      "execution_count": null,
      "outputs": [
        {
          "output_type": "execute_result",
          "data": {
            "text/html": [
              "<div>\n",
              "<style scoped>\n",
              "    .dataframe tbody tr th:only-of-type {\n",
              "        vertical-align: middle;\n",
              "    }\n",
              "\n",
              "    .dataframe tbody tr th {\n",
              "        vertical-align: top;\n",
              "    }\n",
              "\n",
              "    .dataframe thead th {\n",
              "        text-align: right;\n",
              "    }\n",
              "</style>\n",
              "<table border=\"1\" class=\"dataframe\">\n",
              "  <thead>\n",
              "    <tr style=\"text-align: right;\">\n",
              "      <th></th>\n",
              "      <th>stato</th>\n",
              "      <th>ricoverati_con_sintomi</th>\n",
              "      <th>terapia_intensiva</th>\n",
              "      <th>totale_ospedalizzati</th>\n",
              "      <th>isolamento_domiciliare</th>\n",
              "      <th>totale_positivi</th>\n",
              "      <th>variazione_totale_positivi</th>\n",
              "      <th>nuovi_positivi</th>\n",
              "      <th>dimessi_guariti</th>\n",
              "      <th>deceduti</th>\n",
              "      <th>casi_da_sospetto_diagnostico</th>\n",
              "      <th>casi_da_screening</th>\n",
              "      <th>totale_casi</th>\n",
              "      <th>tamponi</th>\n",
              "      <th>casi_testati</th>\n",
              "      <th>note</th>\n",
              "      <th>ingressi_terapia_intensiva</th>\n",
              "      <th>note_test</th>\n",
              "      <th>note_casi</th>\n",
              "      <th>totale_positivi_test_molecolare</th>\n",
              "      <th>totale_positivi_test_antigenico_rapido</th>\n",
              "      <th>tamponi_test_molecolare</th>\n",
              "      <th>tamponi_test_antigenico_rapido</th>\n",
              "    </tr>\n",
              "    <tr>\n",
              "      <th>data</th>\n",
              "      <th></th>\n",
              "      <th></th>\n",
              "      <th></th>\n",
              "      <th></th>\n",
              "      <th></th>\n",
              "      <th></th>\n",
              "      <th></th>\n",
              "      <th></th>\n",
              "      <th></th>\n",
              "      <th></th>\n",
              "      <th></th>\n",
              "      <th></th>\n",
              "      <th></th>\n",
              "      <th></th>\n",
              "      <th></th>\n",
              "      <th></th>\n",
              "      <th></th>\n",
              "      <th></th>\n",
              "      <th></th>\n",
              "      <th></th>\n",
              "      <th></th>\n",
              "      <th></th>\n",
              "      <th></th>\n",
              "    </tr>\n",
              "  </thead>\n",
              "  <tbody>\n",
              "    <tr>\n",
              "      <th>2020-02-24 18:00:00</th>\n",
              "      <td>ITA</td>\n",
              "      <td>101</td>\n",
              "      <td>26</td>\n",
              "      <td>127</td>\n",
              "      <td>94</td>\n",
              "      <td>221</td>\n",
              "      <td>0</td>\n",
              "      <td>221</td>\n",
              "      <td>1</td>\n",
              "      <td>7</td>\n",
              "      <td>NaN</td>\n",
              "      <td>NaN</td>\n",
              "      <td>229</td>\n",
              "      <td>4324</td>\n",
              "      <td>NaN</td>\n",
              "      <td>NaN</td>\n",
              "      <td>NaN</td>\n",
              "      <td>NaN</td>\n",
              "      <td>NaN</td>\n",
              "      <td>NaN</td>\n",
              "      <td>NaN</td>\n",
              "      <td>NaN</td>\n",
              "      <td>NaN</td>\n",
              "    </tr>\n",
              "    <tr>\n",
              "      <th>2020-02-25 18:00:00</th>\n",
              "      <td>ITA</td>\n",
              "      <td>114</td>\n",
              "      <td>35</td>\n",
              "      <td>150</td>\n",
              "      <td>162</td>\n",
              "      <td>311</td>\n",
              "      <td>90</td>\n",
              "      <td>93</td>\n",
              "      <td>1</td>\n",
              "      <td>10</td>\n",
              "      <td>NaN</td>\n",
              "      <td>NaN</td>\n",
              "      <td>322</td>\n",
              "      <td>8623</td>\n",
              "      <td>NaN</td>\n",
              "      <td>NaN</td>\n",
              "      <td>NaN</td>\n",
              "      <td>NaN</td>\n",
              "      <td>NaN</td>\n",
              "      <td>NaN</td>\n",
              "      <td>NaN</td>\n",
              "      <td>NaN</td>\n",
              "      <td>NaN</td>\n",
              "    </tr>\n",
              "    <tr>\n",
              "      <th>2020-02-26 18:00:00</th>\n",
              "      <td>ITA</td>\n",
              "      <td>128</td>\n",
              "      <td>36</td>\n",
              "      <td>164</td>\n",
              "      <td>221</td>\n",
              "      <td>385</td>\n",
              "      <td>74</td>\n",
              "      <td>78</td>\n",
              "      <td>3</td>\n",
              "      <td>12</td>\n",
              "      <td>NaN</td>\n",
              "      <td>NaN</td>\n",
              "      <td>400</td>\n",
              "      <td>9587</td>\n",
              "      <td>NaN</td>\n",
              "      <td>NaN</td>\n",
              "      <td>NaN</td>\n",
              "      <td>NaN</td>\n",
              "      <td>NaN</td>\n",
              "      <td>NaN</td>\n",
              "      <td>NaN</td>\n",
              "      <td>NaN</td>\n",
              "      <td>NaN</td>\n",
              "    </tr>\n",
              "    <tr>\n",
              "      <th>2020-02-27 18:00:00</th>\n",
              "      <td>ITA</td>\n",
              "      <td>248</td>\n",
              "      <td>56</td>\n",
              "      <td>304</td>\n",
              "      <td>284</td>\n",
              "      <td>588</td>\n",
              "      <td>203</td>\n",
              "      <td>250</td>\n",
              "      <td>45</td>\n",
              "      <td>17</td>\n",
              "      <td>NaN</td>\n",
              "      <td>NaN</td>\n",
              "      <td>650</td>\n",
              "      <td>12014</td>\n",
              "      <td>NaN</td>\n",
              "      <td>NaN</td>\n",
              "      <td>NaN</td>\n",
              "      <td>NaN</td>\n",
              "      <td>NaN</td>\n",
              "      <td>NaN</td>\n",
              "      <td>NaN</td>\n",
              "      <td>NaN</td>\n",
              "      <td>NaN</td>\n",
              "    </tr>\n",
              "    <tr>\n",
              "      <th>2020-02-28 18:00:00</th>\n",
              "      <td>ITA</td>\n",
              "      <td>345</td>\n",
              "      <td>64</td>\n",
              "      <td>409</td>\n",
              "      <td>412</td>\n",
              "      <td>821</td>\n",
              "      <td>233</td>\n",
              "      <td>238</td>\n",
              "      <td>46</td>\n",
              "      <td>21</td>\n",
              "      <td>NaN</td>\n",
              "      <td>NaN</td>\n",
              "      <td>888</td>\n",
              "      <td>15695</td>\n",
              "      <td>NaN</td>\n",
              "      <td>NaN</td>\n",
              "      <td>NaN</td>\n",
              "      <td>NaN</td>\n",
              "      <td>NaN</td>\n",
              "      <td>NaN</td>\n",
              "      <td>NaN</td>\n",
              "      <td>NaN</td>\n",
              "      <td>NaN</td>\n",
              "    </tr>\n",
              "    <tr>\n",
              "      <th>...</th>\n",
              "      <td>...</td>\n",
              "      <td>...</td>\n",
              "      <td>...</td>\n",
              "      <td>...</td>\n",
              "      <td>...</td>\n",
              "      <td>...</td>\n",
              "      <td>...</td>\n",
              "      <td>...</td>\n",
              "      <td>...</td>\n",
              "      <td>...</td>\n",
              "      <td>...</td>\n",
              "      <td>...</td>\n",
              "      <td>...</td>\n",
              "      <td>...</td>\n",
              "      <td>...</td>\n",
              "      <td>...</td>\n",
              "      <td>...</td>\n",
              "      <td>...</td>\n",
              "      <td>...</td>\n",
              "      <td>...</td>\n",
              "      <td>...</td>\n",
              "      <td>...</td>\n",
              "      <td>...</td>\n",
              "    </tr>\n",
              "    <tr>\n",
              "      <th>2021-12-03 17:00:00</th>\n",
              "      <td>ITA</td>\n",
              "      <td>5385</td>\n",
              "      <td>708</td>\n",
              "      <td>6093</td>\n",
              "      <td>210061</td>\n",
              "      <td>216154</td>\n",
              "      <td>7283</td>\n",
              "      <td>17030</td>\n",
              "      <td>4727214</td>\n",
              "      <td>134077</td>\n",
              "      <td>NaN</td>\n",
              "      <td>NaN</td>\n",
              "      <td>5077445</td>\n",
              "      <td>121173417</td>\n",
              "      <td>38213164.0</td>\n",
              "      <td>NaN</td>\n",
              "      <td>60.0</td>\n",
              "      <td>NaN</td>\n",
              "      <td>NaN</td>\n",
              "      <td>4864069.0</td>\n",
              "      <td>213376.0</td>\n",
              "      <td>67759212.0</td>\n",
              "      <td>53414205.0</td>\n",
              "    </tr>\n",
              "    <tr>\n",
              "      <th>2021-12-04 17:00:00</th>\n",
              "      <td>ITA</td>\n",
              "      <td>5428</td>\n",
              "      <td>732</td>\n",
              "      <td>6160</td>\n",
              "      <td>217558</td>\n",
              "      <td>223718</td>\n",
              "      <td>7564</td>\n",
              "      <td>16632</td>\n",
              "      <td>4736202</td>\n",
              "      <td>134152</td>\n",
              "      <td>NaN</td>\n",
              "      <td>NaN</td>\n",
              "      <td>5094072</td>\n",
              "      <td>121810009</td>\n",
              "      <td>38301193.0</td>\n",
              "      <td>NaN</td>\n",
              "      <td>59.0</td>\n",
              "      <td>NaN</td>\n",
              "      <td>NaN</td>\n",
              "      <td>4879346.0</td>\n",
              "      <td>214726.0</td>\n",
              "      <td>67938532.0</td>\n",
              "      <td>53871477.0</td>\n",
              "    </tr>\n",
              "    <tr>\n",
              "      <th>2021-12-05 17:00:00</th>\n",
              "      <td>ITA</td>\n",
              "      <td>5597</td>\n",
              "      <td>736</td>\n",
              "      <td>6333</td>\n",
              "      <td>225667</td>\n",
              "      <td>232000</td>\n",
              "      <td>8282</td>\n",
              "      <td>15021</td>\n",
              "      <td>4742887</td>\n",
              "      <td>134195</td>\n",
              "      <td>NaN</td>\n",
              "      <td>NaN</td>\n",
              "      <td>5109082</td>\n",
              "      <td>122335117</td>\n",
              "      <td>38373389.0</td>\n",
              "      <td>NaN</td>\n",
              "      <td>45.0</td>\n",
              "      <td>NaN</td>\n",
              "      <td>NaN</td>\n",
              "      <td>4891645.0</td>\n",
              "      <td>217437.0</td>\n",
              "      <td>68082495.0</td>\n",
              "      <td>54252622.0</td>\n",
              "    </tr>\n",
              "    <tr>\n",
              "      <th>2021-12-06 17:00:00</th>\n",
              "      <td>ITA</td>\n",
              "      <td>5879</td>\n",
              "      <td>743</td>\n",
              "      <td>6622</td>\n",
              "      <td>229213</td>\n",
              "      <td>235835</td>\n",
              "      <td>3835</td>\n",
              "      <td>9503</td>\n",
              "      <td>4748454</td>\n",
              "      <td>134287</td>\n",
              "      <td>NaN</td>\n",
              "      <td>NaN</td>\n",
              "      <td>5118576</td>\n",
              "      <td>122636677</td>\n",
              "      <td>38416484.0</td>\n",
              "      <td>NaN</td>\n",
              "      <td>45.0</td>\n",
              "      <td>NaN</td>\n",
              "      <td>NaN</td>\n",
              "      <td>4900148.0</td>\n",
              "      <td>218428.0</td>\n",
              "      <td>68170338.0</td>\n",
              "      <td>54466339.0</td>\n",
              "    </tr>\n",
              "    <tr>\n",
              "      <th>2021-12-07 17:00:00</th>\n",
              "      <td>ITA</td>\n",
              "      <td>6078</td>\n",
              "      <td>776</td>\n",
              "      <td>6854</td>\n",
              "      <td>234040</td>\n",
              "      <td>240894</td>\n",
              "      <td>5059</td>\n",
              "      <td>15756</td>\n",
              "      <td>4759038</td>\n",
              "      <td>134386</td>\n",
              "      <td>NaN</td>\n",
              "      <td>NaN</td>\n",
              "      <td>5134318</td>\n",
              "      <td>123331813</td>\n",
              "      <td>38496689.0</td>\n",
              "      <td>NaN</td>\n",
              "      <td>89.0</td>\n",
              "      <td>NaN</td>\n",
              "      <td>NaN</td>\n",
              "      <td>4912021.0</td>\n",
              "      <td>222297.0</td>\n",
              "      <td>68339652.0</td>\n",
              "      <td>54992161.0</td>\n",
              "    </tr>\n",
              "  </tbody>\n",
              "</table>\n",
              "<p>653 rows × 23 columns</p>\n",
              "</div>"
            ],
            "text/plain": [
              "                    stato  ...  tamponi_test_antigenico_rapido\n",
              "data                       ...                                \n",
              "2020-02-24 18:00:00   ITA  ...                             NaN\n",
              "2020-02-25 18:00:00   ITA  ...                             NaN\n",
              "2020-02-26 18:00:00   ITA  ...                             NaN\n",
              "2020-02-27 18:00:00   ITA  ...                             NaN\n",
              "2020-02-28 18:00:00   ITA  ...                             NaN\n",
              "...                   ...  ...                             ...\n",
              "2021-12-03 17:00:00   ITA  ...                      53414205.0\n",
              "2021-12-04 17:00:00   ITA  ...                      53871477.0\n",
              "2021-12-05 17:00:00   ITA  ...                      54252622.0\n",
              "2021-12-06 17:00:00   ITA  ...                      54466339.0\n",
              "2021-12-07 17:00:00   ITA  ...                      54992161.0\n",
              "\n",
              "[653 rows x 23 columns]"
            ]
          },
          "metadata": {},
          "execution_count": 80
        }
      ]
    },
    {
      "cell_type": "code",
      "metadata": {
        "colab": {
          "base_uri": "https://localhost:8080/",
          "height": 833
        },
        "id": "kR5XnjlsvNxJ",
        "outputId": "d05ec638-bc9d-44df-eded-0c73ed8f79ac"
      },
      "source": [
        "# Line chart of `totale_positivi`\n",
        "data.plot.line(y = \"totale_positivi\")"
      ],
      "execution_count": null,
      "outputs": [
        {
          "output_type": "execute_result",
          "data": {
            "text/plain": [
              "<matplotlib.axes._subplots.AxesSubplot at 0x7f13463e82d0>"
            ]
          },
          "metadata": {},
          "execution_count": 78
        },
        {
          "output_type": "display_data",
          "data": {
            "image/png": "[encoded data removed]",
            "text/plain": [
              "<Figure size 2520x1080 with 1 Axes>"
            ]
          },
          "metadata": {
            "needs_background": "light"
          }
        }
      ]
    },
    {
      "cell_type": "code",
      "metadata": {
        "colab": {
          "base_uri": "https://localhost:8080/",
          "height": 833
        },
        "id": "ofowMTP6vWX5",
        "outputId": "4f3a7ac4-3a08-4f21-b7e2-97dcc44e7f1c"
      },
      "source": [
        "# Weekly moving average of `nuovi_positivi`\n",
        "data[\"nuovi_positivi_avg\"] = data[\"nuovi_positivi\"].rolling(7).mean()\n",
        "\n",
        "# Double lines chart of `totale_positivi` (daily and weekly)\n",
        "data.plot.line(y = [\"nuovi_positivi\", \"nuovi_positivi_avg\"])"
      ],
      "execution_count": null,
      "outputs": [
        {
          "output_type": "execute_result",
          "data": {
            "text/plain": [
              "<matplotlib.axes._subplots.AxesSubplot at 0x7f1346a56fd0>"
            ]
          },
          "metadata": {},
          "execution_count": 79
        },
        {
          "output_type": "display_data",
          "data": {
            "image/png": "[encoded data removed]",
            "text/plain": [
              "<Figure size 2520x1080 with 1 Axes>"
            ]
          },
          "metadata": {
            "needs_background": "light"
          }
        }
      ]
    }
  ]
}