{
  "nbformat": 4,
  "nbformat_minor": 0,
  "metadata": {
    "colab": {
      "name": "Copia di Exercises.ipynb",
      "provenance": [],
      "collapsed_sections": [
        "H-Gh1u20oGkG",
        "Z5zP1OWxoVa9",
        "1poUoZR_oVd1",
        "RmadTbq-oVhf",
        "muEtDQpmoVkd",
        "IPl5OHu3oVnO",
        "1UMSyD_toVqX",
        "HnyhA66VoVte",
        "PebjxaDaoVwV",
        "_MU25wMQoVzl",
        "3kbXbFfgoV1_",
        "li3K5dTsoV4-",
        "oW6xdQe4oV70",
        "oOUbci0foV-9",
        "CGc0Ea3EoWI1",
        "pqJXC8WFoWLs",
        "I1JLPQEpoWT1",
        "RunWo0zuoWX8",
        "gV5Xb0_SoSJY",
        "lQsO35R4qqxV",
        "Fp8x8Utpqq5m",
        "Z1qmzb3WqrCF",
        "6smW8VW4qrFd",
        "GsqNSf4-qrL4",
        "xwzKqqwdqrOw",
        "iyEfC_YvqrRn",
        "Yqk8PePLqrUt",
        "64GbZug9qrYF",
        "K4w6lTZ7ral0",
        "hH5fKK0urauO",
        "WleU8BDVra4U",
        "YoFycaxJriO1",
        "lHCm7ESRriRg",
        "o9p8kZlJriXI",
        "wl02skT_riaD",
        "8nGm03xiric8",
        "KHzYQB4frifv",
        "xJLlOQmzrilj",
        "cTpjoVT_riuN",
        "FyS9p1yhrixM",
        "KO6wv5hRri4N",
        "IsVEvnjdri-X",
        "Tg19G9nprjBU",
        "Idjoen63ra9N",
        "eqcyvCFkra_8",
        "R_Iw3w8JrbDM",
        "jhYcCcGIoSL9",
        "KhK054VXvFDk",
        "RfkFs_nQvFGf",
        "6TTu-hL8vFMa",
        "ks_Qp1axvFPi",
        "DXj9lLN4vFSf",
        "4kv_EVZlvFVf",
        "oCg-HI9qvFer"
      ],
      "include_colab_link": true
    },
    "kernelspec": {
      "name": "python3",
      "display_name": "Python 3"
    },
    "language_info": {
      "name": "python"
    }
  },
  "cells": [
    {
      "cell_type": "markdown",
      "metadata": {
        "id": "view-in-github",
        "colab_type": "text"
      },
      "source": [
        "<a href=\"https://colab.research.google.com/github/agnesei/Diploma-SNA-DataScience/blob/main/220317_Exercises.ipynb\" target=\"_parent\"><img src=\"https://colab.research.google.com/assets/colab-badge.svg\" alt=\"Open In Colab\"/></a>"
      ]
    },
    {
      "cell_type": "markdown",
      "metadata": {
        "id": "pMd3-XjHY0u7"
      },
      "source": [
        "#==================================\n",
        "#Numbers and Variables\n",
        "#==================================\n",
        "\n"
      ]
    },
    {
      "cell_type": "markdown",
      "metadata": {
        "id": "XAY_u5KGaYa8"
      },
      "source": [
        "## Exercise 1\n",
        "\n",
        "* Assign the value **13.9** to the variable **var_a**.\n",
        "* Print **var_a**"
      ]
    },
    {
      "cell_type": "code",
      "metadata": {
        "colab": {
          "base_uri": "https://localhost:8080/"
        },
        "id": "dVjvRQ1OzLqb",
        "outputId": "65a20f83-3675-41fd-ec4c-a54ffcfef367"
      },
      "source": [
        "var_a = 13.9\n",
        "print(var_a)\n",
        "var_a"
      ],
      "execution_count": null,
      "outputs": [
        {
          "output_type": "stream",
          "name": "stdout",
          "text": [
            "13.9\n"
          ]
        },
        {
          "output_type": "execute_result",
          "data": {
            "text/plain": [
              "13.9"
            ]
          },
          "metadata": {},
          "execution_count": 13
        }
      ]
    },
    {
      "cell_type": "markdown",
      "metadata": {
        "id": "VS-yQL0NcI0c"
      },
      "source": [
        "##Exercise 2\n",
        "* Assign the value **2.8** to the variable **var_b**.\n",
        "* Print **var_b**\n"
      ]
    },
    {
      "cell_type": "code",
      "source": [
        "var_b = 2.8\n",
        "print(var_b)\n",
        "var_b"
      ],
      "metadata": {
        "colab": {
          "base_uri": "https://localhost:8080/"
        },
        "id": "xhA8pwNSmvMe",
        "outputId": "f0c1a796-9985-4700-9822-54ca86973d28"
      },
      "execution_count": null,
      "outputs": [
        {
          "output_type": "stream",
          "name": "stdout",
          "text": [
            "2.8\n"
          ]
        },
        {
          "output_type": "execute_result",
          "data": {
            "text/plain": [
              "2.8"
            ]
          },
          "metadata": {},
          "execution_count": 3
        }
      ]
    },
    {
      "cell_type": "markdown",
      "metadata": {
        "id": "ssgOqOgdlyDg"
      },
      "source": [
        "## Exercise 3\n",
        "* Round **var_a** using the **round()** function and reassign the rounded value to **var_a**.\n",
        "* Print **var_a**\n"
      ]
    },
    {
      "cell_type": "code",
      "source": [
        "var_a = round(var_a)\n",
        "var_a"
      ],
      "metadata": {
        "colab": {
          "base_uri": "https://localhost:8080/"
        },
        "id": "_OAtA9d5nUEb",
        "outputId": "7056f65e-21fc-4f9b-c73c-3dbbc6351e26"
      },
      "execution_count": null,
      "outputs": [
        {
          "output_type": "execute_result",
          "data": {
            "text/plain": [
              "14"
            ]
          },
          "metadata": {},
          "execution_count": 14
        }
      ]
    },
    {
      "cell_type": "markdown",
      "metadata": {
        "id": "7hP_Ro0el7c7"
      },
      "source": [
        "##Exercise 4\n",
        "* Convert **var_b** from float to integer using the **int()** function and reassign the rounded value to **var_b**.\n",
        "* Print **var_b**\n",
        "\n"
      ]
    },
    {
      "cell_type": "code",
      "source": [
        "var_b = int(var_b)\n",
        "var_b"
      ],
      "metadata": {
        "colab": {
          "base_uri": "https://localhost:8080/"
        },
        "id": "Y6fXL2tWn_yY",
        "outputId": "d78ee64f-ddae-4178-e7da-5cda41886e3f"
      },
      "execution_count": null,
      "outputs": [
        {
          "output_type": "execute_result",
          "data": {
            "text/plain": [
              "2"
            ]
          },
          "metadata": {},
          "execution_count": 7
        }
      ]
    },
    {
      "cell_type": "markdown",
      "metadata": {
        "id": "c0zI05R_l7zo"
      },
      "source": [
        "##Exercise 5\n",
        "* Print the sum of **var_a** and **var_b**.\n",
        "\n"
      ]
    },
    {
      "cell_type": "code",
      "source": [
        "print(var_a + var_b)"
      ],
      "metadata": {
        "colab": {
          "base_uri": "https://localhost:8080/"
        },
        "id": "tn_1cQYBoch5",
        "outputId": "051f5f40-7d31-4260-f131-615cc72aa957"
      },
      "execution_count": null,
      "outputs": [
        {
          "output_type": "stream",
          "name": "stdout",
          "text": [
            "15.9\n"
          ]
        }
      ]
    },
    {
      "cell_type": "markdown",
      "metadata": {
        "id": "jrdlWhjhl8KY"
      },
      "source": [
        "##Exercise 6\n",
        "* Assign the value **5** to the variable **num1**\n",
        "* Increase the value of the variable **num1** by 4 units with shorthands\n",
        "* Assign the value **10.5** to the variable **num2**\n",
        "* Decrease the value of the variable **num2** by 1 with shorthands\n",
        "* Multiply the sum of **num1** and **num2** by 3 and print the result\n"
      ]
    },
    {
      "cell_type": "code",
      "source": [
        "num1 = 5\n",
        "num1 += 4\n",
        "num2 = 10.5\n",
        "num2 -= 1\n",
        "print((num1 + num2)*3)"
      ],
      "metadata": {
        "colab": {
          "base_uri": "https://localhost:8080/"
        },
        "id": "vWWl3n7not-b",
        "outputId": "2b1ec15e-860e-4e0e-9be6-c73fcd87a5c5"
      },
      "execution_count": null,
      "outputs": [
        {
          "output_type": "stream",
          "name": "stdout",
          "text": [
            "55.5\n"
          ]
        }
      ]
    },
    {
      "cell_type": "markdown",
      "metadata": {
        "id": "jXirb_t5l-Tz"
      },
      "source": [
        "##Exercise 7\n",
        "* Ask the user to enter a number and save it in the variable **var1**\n",
        "* Print **var1**"
      ]
    },
    {
      "cell_type": "code",
      "source": [
        "var1 = input(\"numero?\")\n",
        "print(var1)\n"
      ],
      "metadata": {
        "colab": {
          "base_uri": "https://localhost:8080/"
        },
        "id": "CiQbkUEmpIdq",
        "outputId": "3bbe27b1-f598-411c-d747-793d9144424f"
      },
      "execution_count": null,
      "outputs": [
        {
          "output_type": "stream",
          "name": "stdout",
          "text": [
            "numero?5\n",
            "5\n"
          ]
        }
      ]
    },
    {
      "cell_type": "markdown",
      "metadata": {
        "id": "tXB5WS39l-dX"
      },
      "source": [
        "#==================================\n",
        "#Strings and sequences\n",
        "#==================================\n"
      ]
    },
    {
      "cell_type": "markdown",
      "metadata": {
        "id": "oElI0hETl3WC"
      },
      "source": [
        "##Exercise 1\n",
        "* Assign the string **I like programming in Python** to the variable **myString**\n",
        "* Print the variable **myString**\n",
        "\n"
      ]
    },
    {
      "cell_type": "code",
      "source": [
        "myString = \"I like programming in Python\"\n",
        "print(myString)\n",
        "myString"
      ],
      "metadata": {
        "id": "qQ5LMOAlrIVm",
        "outputId": "c7bf55bf-7ce4-43ad-d237-3d82e89ec94f",
        "colab": {
          "base_uri": "https://localhost:8080/",
          "height": 53
        }
      },
      "execution_count": null,
      "outputs": [
        {
          "output_type": "stream",
          "name": "stdout",
          "text": [
            "I like programming in Python\n"
          ]
        },
        {
          "output_type": "execute_result",
          "data": {
            "text/plain": [
              "'I like programming in Python'"
            ],
            "application/vnd.google.colaboratory.intrinsic+json": {
              "type": "string"
            }
          },
          "metadata": {},
          "execution_count": 5
        }
      ]
    },
    {
      "cell_type": "markdown",
      "metadata": {
        "id": "COM_fzwpmosO"
      },
      "source": [
        "\n",
        "##Exercise 2\n",
        "* Assign the **4.0** string to the **score** variable\n",
        "* Print the concatenation of the string **result =**  and the **score** variable\n"
      ]
    },
    {
      "cell_type": "code",
      "source": [
        "score = \"4.0\"\n",
        "print(\"resut = \" + score)"
      ],
      "metadata": {
        "id": "LMulgjforeE6",
        "outputId": "1678e18e-6ccd-475f-de1e-27097bdd6a13",
        "colab": {
          "base_uri": "https://localhost:8080/"
        }
      },
      "execution_count": null,
      "outputs": [
        {
          "output_type": "stream",
          "name": "stdout",
          "text": [
            "resut = 4.0\n"
          ]
        }
      ]
    },
    {
      "cell_type": "code",
      "source": [
        ""
      ],
      "metadata": {
        "id": "4oFSTm3xjKXX"
      },
      "execution_count": null,
      "outputs": []
    },
    {
      "cell_type": "markdown",
      "metadata": {
        "id": "RjnBuqm0mpLR"
      },
      "source": [
        "\n",
        "##Exercise 3\n",
        "* Assign the following strings to the variables **s1**, **s2** and **s3** respectively:<br>\n",
        "The value \"3.14\" is an approximation of pi<br>\n",
        "She's going to school<br>\n",
        "Ungaretti wrote \"M'illumino d'immenso\" in 1917<br>\n",
        "* Print **s1**, **s2** and **s3**\n",
        "\n"
      ]
    },
    {
      "cell_type": "code",
      "source": [
        "s1 = 'The value \"3.14\" is an approximation of pi'\n",
        "s2 = \"She's going to school\"\n",
        "s3 = \"Ungaretti wrote \\\"M'illumino d'immenso \\\" in 1917\"\n",
        "print(s1 + \" \" + s2 + \" \" + s3)"
      ],
      "metadata": {
        "id": "tF8AGgzar04L",
        "outputId": "62d66450-4e13-407a-e93f-cda176b8253a",
        "colab": {
          "base_uri": "https://localhost:8080/"
        }
      },
      "execution_count": null,
      "outputs": [
        {
          "output_type": "stream",
          "name": "stdout",
          "text": [
            "The value \"3.14\" is an approximation of pi She's going to school Ungaretti wrote \"M'illumino d'immenso \" in 1917\n"
          ]
        }
      ]
    },
    {
      "cell_type": "code",
      "source": [
        ""
      ],
      "metadata": {
        "id": "8YDWxLifjTdR"
      },
      "execution_count": null,
      "outputs": []
    },
    {
      "cell_type": "markdown",
      "metadata": {
        "id": "8L_U9PqimpVp"
      },
      "source": [
        "##Exercise 4\n",
        "* Print the concatenation of the first, third, fifth and seventh characters of the string **It is never too late to learn**\n"
      ]
    },
    {
      "cell_type": "code",
      "source": [
        "myString = \"It is never too late to learn\"\n",
        "print(myString[0] + myString[2] + myString[4] + myString[6])"
      ],
      "metadata": {
        "id": "cbsVakxesg3a",
        "outputId": "822617c2-db8d-4a68-df6e-fee0baaff0f1",
        "colab": {
          "base_uri": "https://localhost:8080/"
        }
      },
      "execution_count": null,
      "outputs": [
        {
          "output_type": "stream",
          "name": "stdout",
          "text": [
            "I sn\n"
          ]
        }
      ]
    },
    {
      "cell_type": "markdown",
      "metadata": {
        "id": "_EZJZeZ8mpe3"
      },
      "source": [
        "\n",
        "##Exercise 5\n",
        "* Print the concatenation of the last, third last, fifth last character of the string **A good thought can save a lot of time**\n"
      ]
    },
    {
      "cell_type": "code",
      "source": [
        "myString = \"A good thought can save a lot of time\"\n",
        "print(myString[-1]+ myString[-3] + myString[-5])"
      ],
      "metadata": {
        "colab": {
          "base_uri": "https://localhost:8080/"
        },
        "id": "fMzKM9Doj75w",
        "outputId": "8b2d176f-ac97-4ace-9e0e-19f008162afd"
      },
      "execution_count": null,
      "outputs": [
        {
          "output_type": "stream",
          "name": "stdout",
          "text": [
            "ei \n"
          ]
        }
      ]
    },
    {
      "cell_type": "markdown",
      "metadata": {
        "id": "sUpXxMAympn5"
      },
      "source": [
        "\n",
        "##Exercise 6\n",
        "* Print 10 times, always in a new line, the string **I'm faster than Bart Simpson**\n",
        "\n"
      ]
    },
    {
      "cell_type": "code",
      "source": [
        "myString=\"I'm faster than Bart Simpson\"\n",
        "i=0\n",
        "while i < 10:\n",
        "  print (i)\n",
        "  print(myString + \"\\n\")\n",
        "  i += 1\n",
        "  print (i)\n"
      ],
      "metadata": {
        "colab": {
          "base_uri": "https://localhost:8080/"
        },
        "id": "xvdG8P5qkZr1",
        "outputId": "9456b79e-92d7-43ed-c5c8-05a88e2960fe"
      },
      "execution_count": null,
      "outputs": [
        {
          "output_type": "stream",
          "name": "stdout",
          "text": [
            "0\n",
            "I'm faster than Bart Simpson\n",
            "\n",
            "1\n",
            "1\n",
            "I'm faster than Bart Simpson\n",
            "\n",
            "2\n",
            "2\n",
            "I'm faster than Bart Simpson\n",
            "\n",
            "3\n",
            "3\n",
            "I'm faster than Bart Simpson\n",
            "\n",
            "4\n",
            "4\n",
            "I'm faster than Bart Simpson\n",
            "\n",
            "5\n",
            "5\n",
            "I'm faster than Bart Simpson\n",
            "\n",
            "6\n",
            "6\n",
            "I'm faster than Bart Simpson\n",
            "\n",
            "7\n",
            "7\n",
            "I'm faster than Bart Simpson\n",
            "\n",
            "8\n",
            "8\n",
            "I'm faster than Bart Simpson\n",
            "\n",
            "9\n",
            "9\n",
            "I'm faster than Bart Simpson\n",
            "\n",
            "10\n"
          ]
        }
      ]
    },
    {
      "cell_type": "markdown",
      "metadata": {
        "id": "DmgxUEq9mpw8"
      },
      "source": [
        "##Exercise 7\n",
        "* Extract (and print) from the string **Programming in Python** the substring **Program**\n",
        "\n"
      ]
    },
    {
      "cell_type": "code",
      "source": [
        "myString = \"Programming in Python\"\n",
        "print(myString[0:7])"
      ],
      "metadata": {
        "colab": {
          "base_uri": "https://localhost:8080/"
        },
        "id": "gKCr6fJflefO",
        "outputId": "e309093f-bafa-4866-ebdd-93cba1d9d05c"
      },
      "execution_count": null,
      "outputs": [
        {
          "output_type": "stream",
          "name": "stdout",
          "text": [
            "Program\n"
          ]
        }
      ]
    },
    {
      "cell_type": "markdown",
      "metadata": {
        "id": "Pxe7iLspmp4w"
      },
      "source": [
        "##Exercise 8\n",
        "* Make lowercase all the characters in the string **Very Often Who Seeks Finds**\n",
        "* Print the resulting string\n",
        "\n"
      ]
    },
    {
      "cell_type": "code",
      "source": [
        "myString = \"Very Often Who Seeks Finds\"\n",
        "print(myString.lower())"
      ],
      "metadata": {
        "colab": {
          "base_uri": "https://localhost:8080/"
        },
        "id": "ckHt1_vAlyze",
        "outputId": "4d0c189c-46a5-483b-9eec-8f578d991061"
      },
      "execution_count": null,
      "outputs": [
        {
          "output_type": "stream",
          "name": "stdout",
          "text": [
            "very often who seeks finds\n"
          ]
        }
      ]
    },
    {
      "cell_type": "markdown",
      "metadata": {
        "id": "devazRsSmqA3"
      },
      "source": [
        "##Exercise 9\n",
        "* Assign the value **5** to the variable **var1**\n",
        "* Assign the value **6** to the variable **var2**\n",
        "* Assign the concatenation of the string **total =** to the variable **res** with the result of the sum of **var1** and **var2**\n",
        "* Print the variable **res**"
      ]
    },
    {
      "cell_type": "code",
      "source": [
        "var1 = 5\n",
        "var2= 6\n",
        "#vartot= print(var1 + var2)\n",
        "#vartot = str(vartot)\n",
        "#res = print(\"total = \" + vartot)\n",
        "res = \"total = \" + str(var1 + var2)\n",
        "print(res)"
      ],
      "metadata": {
        "colab": {
          "base_uri": "https://localhost:8080/"
        },
        "id": "5X7GkQk2mWoD",
        "outputId": "731ece45-4318-4975-d025-0f7bc2c0e111"
      },
      "execution_count": null,
      "outputs": [
        {
          "output_type": "stream",
          "name": "stdout",
          "text": [
            "total = 11\n"
          ]
        }
      ]
    },
    {
      "cell_type": "markdown",
      "metadata": {
        "id": "xmiGtawhnZpy"
      },
      "source": [
        "#================\n",
        "#Lists\n",
        "#================\n",
        "\n",
        "\n"
      ]
    },
    {
      "cell_type": "markdown",
      "metadata": {
        "id": "XwS0M0FboGAF"
      },
      "source": [
        "##Exercise 1\n",
        "* Create the list **myList** containing the following elements:<br> \n",
        "1<br>\n",
        "two<br>\n",
        "True<br>\n",
        "* Print the second and third elements of the list\n",
        "\n"
      ]
    },
    {
      "cell_type": "code",
      "source": [
        "myList = (\"1\", \"two\", \"True\")\n",
        "print(myList[1:])"
      ],
      "metadata": {
        "colab": {
          "base_uri": "https://localhost:8080/"
        },
        "id": "DfR7zSi2oMY3",
        "outputId": "b1df9360-f00a-455d-fd60-be9af2e26d5c"
      },
      "execution_count": null,
      "outputs": [
        {
          "output_type": "stream",
          "name": "stdout",
          "text": [
            "('two', 'True')\n"
          ]
        }
      ]
    },
    {
      "cell_type": "markdown",
      "metadata": {
        "id": "2S2r0_j1oGJY"
      },
      "source": [
        "##Exercise 2\n",
        "* Create the empty list **myList**\n",
        "* Add the following items to myList:<br> \n",
        "one<br>\n",
        "three<br>\n",
        "four<br>\n",
        "* Print the list\n",
        "* Insert between the first and second element of the list the following element:<br> \n",
        "two<br>\n",
        "* Print the list again\n",
        "\n"
      ]
    },
    {
      "cell_type": "code",
      "source": [
        "myList = []\n",
        "print (myList)\n",
        "myList.append(\"one\")\n",
        "myList.append(\"three\")\n",
        "myList.append(\"four\")\n",
        "print(myList)\n",
        "myList.insert(1,\"two\")\n",
        "print(myList)"
      ],
      "metadata": {
        "colab": {
          "base_uri": "https://localhost:8080/"
        },
        "id": "kHbf6E-zowLw",
        "outputId": "1b68f0d6-e8ae-4798-c0a5-0b4feabf6d62"
      },
      "execution_count": null,
      "outputs": [
        {
          "output_type": "stream",
          "name": "stdout",
          "text": [
            "[]\n",
            "['one', 'three', 'four']\n",
            "['one', 'two', 'three', 'four']\n"
          ]
        }
      ]
    },
    {
      "cell_type": "markdown",
      "metadata": {
        "id": "u-xxmsotoGSX"
      },
      "source": [
        "##Exercise 3\n",
        "* Create the list **names1** containing the following elements: Dominic, Paul, Mary\n",
        "* Create the list **names2** containing the following elements: Tony, Antony, Gabriel\n",
        "* Print the list **names3** containing all the names contained in **names1** and **names2**\n",
        "* Print the third element of the list **names3**\n",
        "* Print the first two elements of the list **names3**\n",
        "* Print the names contained in **names3** in reverse alphabetical order\n",
        "\n"
      ]
    },
    {
      "cell_type": "code",
      "source": [
        "names1 = [\"Dominic\", \"Paul\", \"Mary\"]\n",
        "names2 = [\"Tony\", \"Antony\", \"Gabriel\"]\n",
        "names3 = names1 + names2\n",
        "print(names3[2])\n",
        "print(names3[:2])\n",
        "print(names3)\n",
        "names3.sort(reverse=True)\n",
        "print(names3)\n",
        "\n"
      ],
      "metadata": {
        "colab": {
          "base_uri": "https://localhost:8080/"
        },
        "id": "ujkUT20aptUQ",
        "outputId": "fabdec96-ce30-4572-aa44-cfe12a0b2c73"
      },
      "execution_count": null,
      "outputs": [
        {
          "output_type": "stream",
          "name": "stdout",
          "text": [
            "Mary\n",
            "['Dominic', 'Paul']\n",
            "['Dominic', 'Paul', 'Mary', 'Tony', 'Antony', 'Gabriel']\n",
            "['Tony', 'Paul', 'Mary', 'Gabriel', 'Dominic', 'Antony']\n"
          ]
        }
      ]
    },
    {
      "cell_type": "markdown",
      "metadata": {
        "id": "7wVhit-uoGbG"
      },
      "source": [
        "##Exercise 4\n",
        "* Create the **color** list containing the following elements: white, red, green, blue, yellow\n",
        "* Print the concatenation of the first and the third element of the list\n",
        "* Remove the last item in the list\n",
        "* Print the number of items contained in the list\n",
        "* Add the **purple** color at the end of the list\n",
        "* Print the modified list\n",
        "* Replace the first color in the list with the color **orange**\n",
        "* Remove the **red** color from the list\n",
        "* Print the resulting list"
      ]
    },
    {
      "cell_type": "code",
      "source": [
        "color = [\"white\", \"red\", \"green\", \"blue\", \"yellow\"]\n",
        "print(color[0]+color[1])\n",
        "color = color[:4]\n",
        "color.append(\"purple\")\n",
        "print(color)\n",
        "color = color[1:]\n",
        "color.insert(0,\"orange\")\n",
        "print(color)\n",
        "color.remove(\"red\")\n",
        "print(color)"
      ],
      "metadata": {
        "colab": {
          "base_uri": "https://localhost:8080/"
        },
        "id": "x-G_k4DXrlOW",
        "outputId": "5fae75e7-3abc-43e4-9eb3-e485207faf42"
      },
      "execution_count": null,
      "outputs": [
        {
          "output_type": "stream",
          "name": "stdout",
          "text": [
            "whitered\n",
            "['white', 'red', 'green', 'blue', 'purple']\n",
            "['orange', 'red', 'green', 'blue', 'purple']\n",
            "['orange', 'green', 'blue', 'purple']\n"
          ]
        }
      ]
    },
    {
      "cell_type": "code",
      "source": [
        ""
      ],
      "metadata": {
        "id": "668ngPjKoKuQ"
      },
      "execution_count": null,
      "outputs": []
    },
    {
      "cell_type": "markdown",
      "metadata": {
        "id": "H-Gh1u20oGkG"
      },
      "source": [
        "#================\n",
        "#Tuples\n",
        "#================\n",
        "\n",
        "\n"
      ]
    },
    {
      "cell_type": "markdown",
      "metadata": {
        "id": "Z5zP1OWxoVa9"
      },
      "source": [
        "##Exercise 1\n",
        "* Create the tuple **myTuple** containing the following elements: 123, Tyrion, Lannister, employee\n",
        "* Print the second and the third element of the tuple\n",
        "* Print the last element of the tuple\n",
        "* Print the number of elements contained in the tuple\n",
        "* Print the index of the **Lannister** element contained in the tuple\n",
        "\n"
      ]
    },
    {
      "cell_type": "markdown",
      "metadata": {
        "id": "1poUoZR_oVd1"
      },
      "source": [
        "#================\n",
        "#Sets\n",
        "#================\n",
        "\n"
      ]
    },
    {
      "cell_type": "markdown",
      "metadata": {
        "id": "RmadTbq-oVhf"
      },
      "source": [
        "##Exercise 1\n",
        "* Create the set **months** containing the following elements: Jan, Feb, Mar, Apr, May, Jun\n",
        "* Print the set\n",
        "* Remove the **Jan** element from the set\n",
        "* Print the set\n",
        "\n"
      ]
    },
    {
      "cell_type": "markdown",
      "metadata": {
        "id": "muEtDQpmoVkd"
      },
      "source": [
        "##Exercise 2\n",
        "* Create an empty set called **days**\n",
        "* Add the following items to the set: Mon, Tue, Wed, Thu, Fri, Sat, Sun\n",
        "* Print the set\n",
        "* Calculate and print the number of items in the set\n",
        "\n"
      ]
    },
    {
      "cell_type": "markdown",
      "metadata": {
        "id": "IPl5OHu3oVnO"
      },
      "source": [
        "##Exercise 3\n",
        "* Assign the value **123456789** to the string called **numString**\n",
        "* Create the set **num** containing the numbers from 1 to 9 starting from **numString**\n",
        "* Print the set\n",
        "* Delete all elements from the set\n",
        "\n"
      ]
    },
    {
      "cell_type": "markdown",
      "metadata": {
        "id": "1UMSyD_toVqX"
      },
      "source": [
        "##Exercise 4\n",
        "* Create the set called **set1** containing the following elements: 1, 2, 3, 4, 5\n",
        "* Create the set called **set2** containing the following elements: 1, 2, 3, 4, 5, 6, 7, 8, 9\n",
        "* Verify that **set1** is contained in **set2**\n",
        "* Generate the set called **set3** containing only the elements not in common between **set1** and **set2**\n",
        "* Print the maximum value of the obtained set\n",
        "\n"
      ]
    },
    {
      "cell_type": "markdown",
      "metadata": {
        "id": "HnyhA66VoVte"
      },
      "source": [
        "##Exercise 5\n",
        "* Create the set called **names** containing the following elements: Mario, Luigi\n",
        "* Create the set called **primes** containing the following elements: 2, 3, 5, 7, 11\n",
        "* Create the set called **shapes** containing the following elements: triangle, square, circle\n",
        "* Create the set called **finalSet** as the union of the previous three sets\n",
        "\n"
      ]
    },
    {
      "cell_type": "markdown",
      "metadata": {
        "id": "PebjxaDaoVwV"
      },
      "source": [
        "#================\n",
        "#Dictionaries\n",
        "#================\n",
        "\n"
      ]
    },
    {
      "cell_type": "markdown",
      "metadata": {
        "id": "_MU25wMQoVzl"
      },
      "source": [
        "##Exercise 1\n",
        "* Create an empty dictionary called **myDiz**\n",
        "* add to **myDiz** 5 elements having:\n",
        "* - the first 5 letters of the alphabet as keys\n",
        "* - as corresponding values the numbers from 1 to 5\n",
        "* Print the created dictionary\n",
        "* Print the value associated with the key **c**\n",
        "\n"
      ]
    },
    {
      "cell_type": "markdown",
      "metadata": {
        "id": "3kbXbFfgoV1_"
      },
      "source": [
        "##Exercise 2\n",
        "* Create the **square** dictionary with the following 5 key-value pairs:<br>\n",
        "5:25<br>\n",
        "3:9<br>\n",
        "4:16<br>\n",
        "1:1<br>\n",
        "2:4<br>\n",
        "* Print all the dictionary keys\n",
        "* Print all the dictionary values\n",
        "* Add the key-value pair **6:36** to the dictionary\n",
        "* Delete the **1:1** pair from the dictionary\n",
        "* Set the value **111** in correspondence with key **5**\n",
        "* Print the dictionary\n",
        "* Remove all items from the dictionary\n",
        "\n"
      ]
    },
    {
      "cell_type": "markdown",
      "metadata": {
        "id": "li3K5dTsoV4-"
      },
      "source": [
        "##Exercise 3\n",
        "* Create the **diz1** dictionary containing the following key-value pairs:<br> 1:10<br>\n",
        "2:20<br>\n",
        "* Create the **diz2** dictionary containing the following key-value pairs:<br> 3:30<br>\n",
        "4:40<br>\n",
        "* Create the **diz3** dictionary containing the following key-value pairs:<br> 5:50<br>\n",
        "6:60<br>\n",
        "* Add the elements of **diz2** and **diz3** to **diz1**\n",
        "* Print **diz1**."
      ]
    },
    {
      "cell_type": "markdown",
      "metadata": {
        "id": "oW6xdQe4oV70"
      },
      "source": [
        "#================\n",
        "#Conditional statements\n",
        "#================\n",
        "\n",
        "\n"
      ]
    },
    {
      "cell_type": "markdown",
      "metadata": {
        "id": "oOUbci0foV-9"
      },
      "source": [
        "##Exercise 1\n",
        "* Write a code snippet that:\n",
        "* - asks the user to enter 3 integers\n",
        "* - prints the maximum of the entered values\n",
        "\n"
      ]
    },
    {
      "cell_type": "markdown",
      "metadata": {
        "id": "CGc0Ea3EoWI1"
      },
      "source": [
        "##Exercise 2\n",
        "* Write a code snippet that:\n",
        "* - saves a name entered by the user in the variable **name1**\n",
        "* - saves a second name entered by the user in the variable **name2**\n",
        "* - prints the longest name among those entered\n",
        "\n"
      ]
    },
    {
      "cell_type": "markdown",
      "metadata": {
        "id": "pqJXC8WFoWLs"
      },
      "source": [
        "##Exercise 3\n",
        "* Write a code snippet that:\n",
        "* - asks the user to enter an integer between 1 and 7 (extremes included)\n",
        "* - print the first 3 letters of the corresponding day of the week (e.g. 6 ==> **Sat**)\n",
        "* - prints the string **wrong input** in case of illegal values entered\n",
        "\n"
      ]
    },
    {
      "cell_type": "markdown",
      "metadata": {
        "id": "I1JLPQEpoWT1"
      },
      "source": [
        "##Exercise 4\n",
        "* Write a code snippet that:\n",
        "* - asks the user to enter a person's **name** and **age**\n",
        "* - check that the name entered is valid (it must contain only letters)\n",
        "* - check that the age entered is valid (number between 0 and 130)\n",
        "* - based on the name (whether it ends with the letter \"o\" or not) and age, print one of these sentences:<br>\n",
        "name is an adult man<br>\n",
        "name is an underage man<br>\n",
        "name is an adult woman<br>\n",
        "name is an underage woman<br>\n",
        "\n",
        "* NB: normally names ending in \"o\" (at least in Italy) are considered men names"
      ]
    },
    {
      "cell_type": "markdown",
      "metadata": {
        "id": "RunWo0zuoWX8"
      },
      "source": [
        "#================\n",
        "#Iteration\n",
        "#================\n",
        "\n",
        "\n"
      ]
    },
    {
      "cell_type": "markdown",
      "metadata": {
        "id": "gV5Xb0_SoSJY"
      },
      "source": [
        "##Exercise 1\n",
        "* Using a while loop print the first 20 natural numbers\n",
        "\n"
      ]
    },
    {
      "cell_type": "markdown",
      "metadata": {
        "id": "lQsO35R4qqxV"
      },
      "source": [
        "##Exercise 2\n",
        "* Write a code snippet that:\n",
        "* - assigns a string containing a name to the variable **name**\n",
        "* - asks the user to type a name until the name typed is the same as the one contained in the **name** variable\n",
        "* - prints \"Correct!\" when the name entered by the user is the same as that contained in the **name** variable\n",
        "\n"
      ]
    },
    {
      "cell_type": "markdown",
      "metadata": {
        "id": "Fp8x8Utpqq5m"
      },
      "source": [
        "##Exercise 3\n",
        "* Write a code snippet that:\n",
        "* - assigns a string containing a name to the variable **name**\n",
        "* - assigns an integer between 1 and 9 to the **maxAttempts** variable\n",
        "* - asks the user to type a name until one of the following 2 conditions is met:\n",
        "*  - * 1) the name entered is the same as that contained in the **name** variable\n",
        "*  - *  2) the number of attempts is greater than the value of **maxAttempts**\n",
        "* - prints \"Name guessed!\" when the name entered by the user is the same as that contained in the **name** variable\n",
        "* - prints \"No more attempts ...\" when the number of attempts available without guessing has been exceeded\n",
        "\n"
      ]
    },
    {
      "cell_type": "markdown",
      "metadata": {
        "id": "Z1qmzb3WqrCF"
      },
      "source": [
        "##Exercise 4\n",
        "* Write a code snippet that prints all natural numbers between 1000 and 2000 (inclusive) that are multiples of 5 and divisible by 7.\n",
        "\n"
      ]
    },
    {
      "cell_type": "markdown",
      "metadata": {
        "id": "6smW8VW4qrFd"
      },
      "source": [
        "##Exercise 5\n",
        "* Write a code snippet that parsing integers from 1 to 50 prints:\n",
        "* - the number of even integers\n",
        "* - the number of integers divisible by 3\n",
        "\n"
      ]
    },
    {
      "cell_type": "markdown",
      "metadata": {
        "id": "GsqNSf4-qrL4"
      },
      "source": [
        "##Exercise 6\n",
        "* Write a code snippet that prints the multiplication table of the first 10 integers\n",
        "* (consult the print documentation if necessary)\n",
        "\n"
      ]
    },
    {
      "cell_type": "markdown",
      "metadata": {
        "id": "xwzKqqwdqrOw"
      },
      "source": [
        "##Exercise 7\n",
        "* Write a code snippet that produces the following output:<br>\n",
        "1<br>\n",
        "22<br>\n",
        "333<br>\n",
        "4444<br>\n",
        "55555<br>"
      ]
    },
    {
      "cell_type": "markdown",
      "metadata": {
        "id": "iyEfC_YvqrRn"
      },
      "source": [
        "#==================\n",
        "#Comprehensions\n",
        "#==================\n",
        "\n"
      ]
    },
    {
      "cell_type": "markdown",
      "metadata": {
        "id": "Yqk8PePLqrUt"
      },
      "source": [
        "\n",
        "##Exercise 1\n",
        "* Enter all even integers between 0 and 50 in the list called **myList**\n",
        "\n"
      ]
    },
    {
      "cell_type": "markdown",
      "metadata": {
        "id": "64GbZug9qrYF"
      },
      "source": [
        "##Exercise 2\n",
        "* Create and print the list **list1** containing all the integers between 1 and 20\n",
        "* Create and print the list **list2** containing the elements of **list1** multiplied by three\n"
      ]
    },
    {
      "cell_type": "markdown",
      "metadata": {
        "id": "K4w6lTZ7ral0"
      },
      "source": [
        "\n",
        "##Exercise 3\n",
        "* Create and print the **words** list containing the following elements:<br> \n",
        "a<br>\n",
        "list<br> \n",
        "of<br>\n",
        "words<br>\n",
        "* Create and print the **firstLetters** list containing the first letter of each element of **words**\n"
      ]
    },
    {
      "cell_type": "markdown",
      "metadata": {
        "id": "hH5fKK0urauO"
      },
      "source": [
        "\n",
        "##Exercise 4\n",
        "* Create and print the **numbers** list containing all the numbers in the string **350 Fifth Avenue, New York City, NY 10118**"
      ]
    },
    {
      "cell_type": "markdown",
      "metadata": {
        "id": "WleU8BDVra4U"
      },
      "source": [
        "#==================\n",
        "#Functions\n",
        "#==================\n",
        "\n",
        "\n"
      ]
    },
    {
      "cell_type": "markdown",
      "metadata": {
        "id": "YoFycaxJriO1"
      },
      "source": [
        "##Exercise 1\n",
        "* Write a function that calculates the number of seconds contained in a number of days, hours, and minutes entered by the user.\n",
        "\n"
      ]
    },
    {
      "cell_type": "markdown",
      "metadata": {
        "id": "lHCm7ESRriRg"
      },
      "source": [
        "##Exercise 2\n",
        "* Write a function that calculates the factorial of an integer given as input by the user.\n",
        "* (the factorial of a natural number n is the product of all positive integers less than or equal to n)\n",
        "\n"
      ]
    },
    {
      "cell_type": "markdown",
      "metadata": {
        "id": "o9p8kZlJriXI"
      },
      "source": [
        "##Exercise 3\n",
        "* Write a function that returns a list of numbers representing the lengths of the words contained in a list of strings provided as input to the function.\n",
        "\n"
      ]
    },
    {
      "cell_type": "markdown",
      "metadata": {
        "id": "wl02skT_riaD"
      },
      "source": [
        "##Exercise 4\n",
        "* Write a function that calculates the sum of the elements of a list of numbers provided as input to the function.\n"
      ]
    },
    {
      "cell_type": "markdown",
      "metadata": {
        "id": "8nGm03xiric8"
      },
      "source": [
        "\n",
        "##Exercise 5\n",
        "* Write a function that takes a character as input and returns:\n",
        "* - True if the character is a vowel\n",
        "* - False otherwise"
      ]
    },
    {
      "cell_type": "markdown",
      "metadata": {
        "id": "KHzYQB4frifv"
      },
      "source": [
        "#==================\n",
        "#Exceptions\n",
        "#==================\n",
        "\n",
        "\n"
      ]
    },
    {
      "cell_type": "markdown",
      "metadata": {
        "id": "xJLlOQmzrilj"
      },
      "source": [
        "##Exercise 1\n",
        "Write a code snippet that:\n",
        "- saves an integer entered by the user in the variable **num1**\n",
        "- saves a second integer entered by the user in the variable **num2**\n",
        "- prints the sum of the 2 numbers or an error message if a string was entered in place of a number\n",
        "\n",
        "\n"
      ]
    },
    {
      "cell_type": "markdown",
      "metadata": {
        "id": "cTpjoVT_riuN"
      },
      "source": [
        "##Exercise 2\n",
        "* The following block of code has one or more sources of possible errors at runtime.\n",
        "* Modify the code appropriately in order to make it more robust.\n",
        "* Test the robustness of the code.<br><br>\n",
        "\n",
        "def myFunction1():<br>\n",
        "    &nbsp;&nbsp;&nbsp;&nbsp;for i in range(3):<br>\n",
        "        &nbsp;&nbsp;&nbsp;&nbsp;&nbsp;&nbsp;&nbsp;&nbsp;x = int (input(\"Please enter a number:\"))<br>\n",
        "        &nbsp;&nbsp;&nbsp;&nbsp;&nbsp;&nbsp;&nbsp;&nbsp;y = int (input(\"Please enter another number:\"))<br>\n",
        "        &nbsp;&nbsp;&nbsp;&nbsp;&nbsp;&nbsp;&nbsp;&nbsp;print (str(x) + \"/\" + str(y) + \" = \" + str(x / y))<br><br>\n",
        "\n",
        "myFunction1()\n",
        "\n",
        "\n"
      ]
    },
    {
      "cell_type": "markdown",
      "metadata": {
        "id": "FyS9p1yhrixM"
      },
      "source": [
        "##Exercise 3\n",
        "* The following block of code has one or more sources of possible errors at runtime.\n",
        "* Modify the code appropriately in order to make it more robust.\n",
        "Test the robustness of the code.<br><br>\n",
        "\n",
        "def myFunction2(L):<br>\n",
        "    &nbsp;&nbsp;&nbsp;&nbsp;sum = []<br>\n",
        "    &nbsp;&nbsp;&nbsp;&nbsp;for i in range (len (L)):<br>\n",
        "        &nbsp;&nbsp;&nbsp;&nbsp;&nbsp;&nbsp;&nbsp;&nbsp;sum.append(L [i] + L [i + 1])<br>\n",
        "    &nbsp;&nbsp;&nbsp;&nbsp;print(\"sum =\" + str (sum))\n",
        "    \n",
        "L = [10, 3, 5, 6, 9, 3]\n",
        "myFunction2(L)\n",
        "\n",
        "\n"
      ]
    },
    {
      "cell_type": "markdown",
      "metadata": {
        "id": "KO6wv5hRri4N"
      },
      "source": [
        "##Exercise 4\n",
        "* The following block of code has one or more sources of possible errors at runtime.\n",
        "* Modify the code appropriately in order to make it more robust.\n",
        "* Test the robustness of the code.<br><br>\n",
        "\n",
        "def printFile (filename):<br>\n",
        "   &nbsp;&nbsp;&nbsp;&nbsp;file = open (filename, \"r\")<br>\n",
        "   &nbsp;&nbsp;&nbsp;&nbsp;for line in file:<br>\n",
        "       &nbsp;&nbsp;&nbsp;&nbsp;&nbsp;&nbsp;&nbsp;&nbsp;print (line.upper ())<br>\n",
        "   &nbsp;&nbsp;&nbsp;&nbsp;file.close ()<br>\n",
        "   <br>\n",
        "open(\"fileNotYetCreated.txt\", \"w\").close()<br>\n",
        "printFile(\"fileNotYetCreated.txt\")<br>\n",
        "printFile(\"./Dessssktop/error.txt\")<br>"
      ]
    },
    {
      "cell_type": "markdown",
      "metadata": {
        "id": "IsVEvnjdri-X"
      },
      "source": [
        "#==================\n",
        "#Modules\n",
        "#==================\n",
        "\n",
        "\n"
      ]
    },
    {
      "cell_type": "markdown",
      "metadata": {
        "id": "Tg19G9nprjBU"
      },
      "source": [
        "##Exercise 1\n",
        "* Write a code snippet that:\n",
        "* - Create the **squares** list containing the following elements: 16, 9, 64, 25\n",
        "* - Generates and prints the **roots** list containing the roots of the elements contained in **squares**\n",
        "\n"
      ]
    },
    {
      "cell_type": "markdown",
      "metadata": {
        "id": "Idjoen63ra9N"
      },
      "source": [
        "##Exercise 2\n",
        "* Write a code snippet that:\n",
        "* - Create the **numbers** list containing 15 randomly generated values between 20 and 80\n",
        "* - Print the **numbers** list after having sorted the elements\n",
        "* - Compute and print mean, median and standard deviation related to the values of **numbers**\n",
        "\n"
      ]
    },
    {
      "cell_type": "markdown",
      "metadata": {
        "id": "eqcyvCFkra_8"
      },
      "source": [
        "##Exercise 3\n",
        "* Write a code snippet that prints the name and version of your operating system.\n",
        "\n"
      ]
    },
    {
      "cell_type": "markdown",
      "metadata": {
        "id": "R_Iw3w8JrbDM"
      },
      "source": [
        "#==================\n",
        "#Files\n",
        "#==================\n",
        "\n"
      ]
    },
    {
      "cell_type": "markdown",
      "metadata": {
        "id": "jhYcCcGIoSL9"
      },
      "source": [
        "##Exercise 1\n",
        "* Create (manually) the text file **test.txt** containing at least 5 non-blank lines in the working directory.\n",
        "* Write a code snippet that reads and print the entire text file created earlier.\n",
        "\n"
      ]
    },
    {
      "cell_type": "markdown",
      "metadata": {
        "id": "KhK054VXvFDk"
      },
      "source": [
        "##Exercise 2\n",
        "* Create (manually) the text file **test.txt** containing at least 5 non-blank lines in the working directory.\n",
        "* Write a snippet of code that reads the file one line at a time and saves it to a list.\n",
        "* Print the resulting list.\n",
        "\n"
      ]
    },
    {
      "cell_type": "markdown",
      "metadata": {
        "id": "RfkFs_nQvFGf"
      },
      "source": [
        "\n",
        "##Exercise 3\n",
        "* Create (manually) the text file **test.txt** containing at least 5 non-blank lines in the working directory.\n",
        "* Write a code snippet that prints the longest word contained in the test.txt file\n",
        "\n"
      ]
    },
    {
      "cell_type": "markdown",
      "metadata": {
        "id": "6TTu-hL8vFMa"
      },
      "source": [
        "##Exercise 4\n",
        "* Write a code snippet that:\n",
        "* - Create the **color** list containing the following elements: green, white, red, black, yellow\n",
        "* - Writes each element of the list to a new line of the **colors.txt** text file\n",
        "* - Reads and prints the contents of the colors.txt file\n",
        "\n"
      ]
    },
    {
      "cell_type": "markdown",
      "metadata": {
        "id": "ks_Qp1axvFPi"
      },
      "source": [
        "##Exercise 5\n",
        "* Create (manually) the text file **test.txt** containing at least 5 non-blank lines in the working directory.\n",
        "* Write a code snippet that:\n",
        "* - removes all newline characters from the text contained in the test.txt file\n",
        "* - print the contents of the file cleaned of newlines"
      ]
    },
    {
      "cell_type": "markdown",
      "metadata": {
        "id": "DXj9lLN4vFSf"
      },
      "source": [
        "#==================\n",
        "#Classes\n",
        "#==================\n",
        "\n",
        "\n"
      ]
    },
    {
      "cell_type": "markdown",
      "metadata": {
        "id": "4kv_EVZlvFVf"
      },
      "source": [
        "##Exercise 1\n",
        "* Write a Python class named **Circle** constructed by a radius and two methods which will compute the area and the perimeter of a circle.\n",
        "* Create a circle object and compute its area and perimeter.\n",
        "\n"
      ]
    },
    {
      "cell_type": "markdown",
      "metadata": {
        "id": "oCg-HI9qvFer"
      },
      "source": [
        "##Exercise 2\n",
        "* Model the relationship between the following 2 concepts:\n",
        "* - Square\n",
        "* - Rectangle\n",
        "* Add the necessary methods for computing the area and the perimeter."
      ]
    }
  ]
}
